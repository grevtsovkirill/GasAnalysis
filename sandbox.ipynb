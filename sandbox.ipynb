{
 "cells": [
  {
   "cell_type": "code",
   "execution_count": 145,
   "metadata": {},
   "outputs": [],
   "source": [
    "import os\n",
    "import pandas as pd\n",
    "import numpy as np\n",
    "import matplotlib.pyplot as plt\n",
    "from sklearn.preprocessing import MinMaxScaler\n",
    "from sklearn.metrics import mean_squared_error\n",
    "import math"
   ]
  },
  {
   "cell_type": "markdown",
   "metadata": {},
   "source": [
    "read data "
   ]
  },
  {
   "cell_type": "code",
   "execution_count": 3,
   "metadata": {},
   "outputs": [],
   "source": [
    "prices=pd.read_csv(\"data/raw/GasPrices/2020/01/2020-01-01-prices.csv\")\n",
    "stations=pd.read_csv(\"data/stations.csv\")"
   ]
  },
  {
   "cell_type": "markdown",
   "metadata": {},
   "source": [
    "set range for lattitude"
   ]
  },
  {
   "cell_type": "code",
   "execution_count": 4,
   "metadata": {},
   "outputs": [],
   "source": [
    "minlat=53.567181\n",
    "maxlat=53.648408"
   ]
  },
  {
   "cell_type": "code",
   "execution_count": 5,
   "metadata": {},
   "outputs": [],
   "source": [
    "minlon=9.876232\n",
    "maxlon=9.941601"
   ]
  },
  {
   "cell_type": "code",
   "execution_count": 6,
   "metadata": {},
   "outputs": [],
   "source": [
    "#(stations.city==\"Hamburg\")& - 26 \n",
    "# wo 51 \n",
    "stations_on_route=stations.loc[\n",
    "             (stations.latitude>minlat)&(stations.latitude<maxlat)&\n",
    "            (stations.longitude>minlon)&(stations.longitude<maxlon)]\n",
    "   "
   ]
  },
  {
   "cell_type": "code",
   "execution_count": 7,
   "metadata": {},
   "outputs": [],
   "source": [
    "#len 723\n",
    "selected_prices = prices.loc[prices.station_uuid.isin(stations_on_route.uuid)]"
   ]
  },
  {
   "cell_type": "code",
   "execution_count": 8,
   "metadata": {},
   "outputs": [],
   "source": [
    "#clean no warning version!\n",
    "#selected_prices.loc[:,'station_name'] = selected_prices['station_uuid'].map(name_dict) "
   ]
  },
  {
   "cell_type": "markdown",
   "metadata": {},
   "source": [
    "extend station id to meaningful info"
   ]
  },
  {
   "cell_type": "code",
   "execution_count": 9,
   "metadata": {},
   "outputs": [
    {
     "name": "stderr",
     "output_type": "stream",
     "text": [
      "/Library/Frameworks/Python.framework/Versions/3.6/lib/python3.6/site-packages/pandas/core/indexing.py:362: SettingWithCopyWarning: \n",
      "A value is trying to be set on a copy of a slice from a DataFrame.\n",
      "Try using .loc[row_indexer,col_indexer] = value instead\n",
      "\n",
      "See the caveats in the documentation: http://pandas.pydata.org/pandas-docs/stable/indexing.html#indexing-view-versus-copy\n",
      "  self.obj[key] = _infer_fill_value(value)\n",
      "/Library/Frameworks/Python.framework/Versions/3.6/lib/python3.6/site-packages/pandas/core/indexing.py:543: SettingWithCopyWarning: \n",
      "A value is trying to be set on a copy of a slice from a DataFrame.\n",
      "Try using .loc[row_indexer,col_indexer] = value instead\n",
      "\n",
      "See the caveats in the documentation: http://pandas.pydata.org/pandas-docs/stable/indexing.html#indexing-view-versus-copy\n",
      "  self.obj[item] = s\n"
     ]
    }
   ],
   "source": [
    "selected_prices.loc[:,'station_name']=selected_prices.station_uuid.map(stations_on_route.set_index('uuid')['brand'].to_dict())\n",
    "selected_prices.loc[:,'station_address']=selected_prices.station_uuid.map(stations_on_route.set_index('uuid')['street'].to_dict())\n",
    "selected_prices.loc[:,'station_latitude']=selected_prices.station_uuid.map(stations_on_route.set_index('uuid')['latitude'].to_dict())\n",
    "selected_prices.loc[:,'station_longitude']=selected_prices.station_uuid.map(stations_on_route.set_index('uuid')['longitude'].to_dict())\n",
    "\n"
   ]
  },
  {
   "cell_type": "code",
   "execution_count": 10,
   "metadata": {},
   "outputs": [],
   "source": [
    "selected_prices.loc[:,'station_name']=selected_prices.station_uuid"
   ]
  },
  {
   "cell_type": "code",
   "execution_count": 11,
   "metadata": {},
   "outputs": [],
   "source": [
    "selected_prices.to_csv(\"data/processed/2020/01/2020-01-01-prices.csv\")"
   ]
  },
  {
   "cell_type": "code",
   "execution_count": 12,
   "metadata": {},
   "outputs": [
    {
     "name": "stdout",
     "output_type": "stream",
     "text": [
      "2020-01-01 04:02:03\n"
     ]
    }
   ],
   "source": [
    "from datetime import datetime\n",
    "\n",
    "datetime_object = datetime.strptime('2020-01-01 04:02:03+01', '%Y-%m-%d %H:%M:%S+01')\n",
    "#selected_prices.date\n",
    "#= pd.to_datetime(selected_prices.date, format='%Y-%m-%d %H:%M:%S+1')\n",
    "print(datetime_object)"
   ]
  },
  {
   "cell_type": "code",
   "execution_count": 13,
   "metadata": {},
   "outputs": [],
   "source": [
    "def dt_conv(l_d):\n",
    "    for i in l_d:\n",
    "        datetime_object = datetime.strptime(i, '%Y-%m-%d %H:%M:%S+01')\n",
    "        print(datetime_object)"
   ]
  },
  {
   "cell_type": "code",
   "execution_count": 14,
   "metadata": {},
   "outputs": [
    {
     "data": {
      "text/html": [
       "<div>\n",
       "<style scoped>\n",
       "    .dataframe tbody tr th:only-of-type {\n",
       "        vertical-align: middle;\n",
       "    }\n",
       "\n",
       "    .dataframe tbody tr th {\n",
       "        vertical-align: top;\n",
       "    }\n",
       "\n",
       "    .dataframe thead th {\n",
       "        text-align: right;\n",
       "    }\n",
       "</style>\n",
       "<table border=\"1\" class=\"dataframe\">\n",
       "  <thead>\n",
       "    <tr style=\"text-align: right;\">\n",
       "      <th></th>\n",
       "      <th>date</th>\n",
       "      <th>station_uuid</th>\n",
       "      <th>diesel</th>\n",
       "      <th>e5</th>\n",
       "      <th>e10</th>\n",
       "      <th>dieselchange</th>\n",
       "      <th>e5change</th>\n",
       "      <th>e10change</th>\n",
       "      <th>station_name</th>\n",
       "      <th>station_address</th>\n",
       "      <th>station_latitude</th>\n",
       "      <th>station_longitude</th>\n",
       "    </tr>\n",
       "  </thead>\n",
       "  <tbody>\n",
       "    <tr>\n",
       "      <th>1268</th>\n",
       "      <td>2020-01-01 04:37:04+01</td>\n",
       "      <td>51d4b4dc-a095-1aa0-e100-80009459e03a</td>\n",
       "      <td>1.319</td>\n",
       "      <td>1.469</td>\n",
       "      <td>1.449</td>\n",
       "      <td>1</td>\n",
       "      <td>1</td>\n",
       "      <td>1</td>\n",
       "      <td>51d4b4dc-a095-1aa0-e100-80009459e03a</td>\n",
       "      <td>KIELER STRASSE 234</td>\n",
       "      <td>53.57904</td>\n",
       "      <td>9.936400</td>\n",
       "    </tr>\n",
       "    <tr>\n",
       "      <th>3833</th>\n",
       "      <td>2020-01-01 05:02:04+01</td>\n",
       "      <td>95b23160-eeb2-440f-adc4-245238f24e42</td>\n",
       "      <td>1.419</td>\n",
       "      <td>1.559</td>\n",
       "      <td>1.539</td>\n",
       "      <td>1</td>\n",
       "      <td>1</td>\n",
       "      <td>1</td>\n",
       "      <td>95b23160-eeb2-440f-adc4-245238f24e42</td>\n",
       "      <td>Holsteiner Chaussee</td>\n",
       "      <td>53.61471</td>\n",
       "      <td>9.906061</td>\n",
       "    </tr>\n",
       "    <tr>\n",
       "      <th>4195</th>\n",
       "      <td>2020-01-01 05:02:04+01</td>\n",
       "      <td>5336de21-fd2d-4821-b4fe-bf89684cdb81</td>\n",
       "      <td>1.389</td>\n",
       "      <td>1.529</td>\n",
       "      <td>1.509</td>\n",
       "      <td>1</td>\n",
       "      <td>1</td>\n",
       "      <td>1</td>\n",
       "      <td>5336de21-fd2d-4821-b4fe-bf89684cdb81</td>\n",
       "      <td>Pinneberger Straße</td>\n",
       "      <td>53.63288</td>\n",
       "      <td>9.910497</td>\n",
       "    </tr>\n",
       "    <tr>\n",
       "      <th>4864</th>\n",
       "      <td>2020-01-01 05:02:04+01</td>\n",
       "      <td>6d7517d5-2a6c-403f-bd19-f9557c5ff16c</td>\n",
       "      <td>1.419</td>\n",
       "      <td>1.559</td>\n",
       "      <td>1.539</td>\n",
       "      <td>1</td>\n",
       "      <td>1</td>\n",
       "      <td>1</td>\n",
       "      <td>6d7517d5-2a6c-403f-bd19-f9557c5ff16c</td>\n",
       "      <td>Kieler Straße</td>\n",
       "      <td>53.59994</td>\n",
       "      <td>9.917373</td>\n",
       "    </tr>\n",
       "    <tr>\n",
       "      <th>5499</th>\n",
       "      <td>2020-01-01 05:04:04+01</td>\n",
       "      <td>b282ef61-a88d-4abd-bfba-92524f78867e</td>\n",
       "      <td>1.419</td>\n",
       "      <td>1.559</td>\n",
       "      <td>1.539</td>\n",
       "      <td>1</td>\n",
       "      <td>1</td>\n",
       "      <td>1</td>\n",
       "      <td>b282ef61-a88d-4abd-bfba-92524f78867e</td>\n",
       "      <td>Schleswiger Damm</td>\n",
       "      <td>53.64182</td>\n",
       "      <td>9.916311</td>\n",
       "    </tr>\n",
       "  </tbody>\n",
       "</table>\n",
       "</div>"
      ],
      "text/plain": [
       "                        date                          station_uuid  diesel  \\\n",
       "1268  2020-01-01 04:37:04+01  51d4b4dc-a095-1aa0-e100-80009459e03a   1.319   \n",
       "3833  2020-01-01 05:02:04+01  95b23160-eeb2-440f-adc4-245238f24e42   1.419   \n",
       "4195  2020-01-01 05:02:04+01  5336de21-fd2d-4821-b4fe-bf89684cdb81   1.389   \n",
       "4864  2020-01-01 05:02:04+01  6d7517d5-2a6c-403f-bd19-f9557c5ff16c   1.419   \n",
       "5499  2020-01-01 05:04:04+01  b282ef61-a88d-4abd-bfba-92524f78867e   1.419   \n",
       "\n",
       "         e5    e10  dieselchange  e5change  e10change  \\\n",
       "1268  1.469  1.449             1         1          1   \n",
       "3833  1.559  1.539             1         1          1   \n",
       "4195  1.529  1.509             1         1          1   \n",
       "4864  1.559  1.539             1         1          1   \n",
       "5499  1.559  1.539             1         1          1   \n",
       "\n",
       "                              station_name      station_address  \\\n",
       "1268  51d4b4dc-a095-1aa0-e100-80009459e03a   KIELER STRASSE 234   \n",
       "3833  95b23160-eeb2-440f-adc4-245238f24e42  Holsteiner Chaussee   \n",
       "4195  5336de21-fd2d-4821-b4fe-bf89684cdb81   Pinneberger Straße   \n",
       "4864  6d7517d5-2a6c-403f-bd19-f9557c5ff16c        Kieler Straße   \n",
       "5499  b282ef61-a88d-4abd-bfba-92524f78867e     Schleswiger Damm   \n",
       "\n",
       "      station_latitude  station_longitude  \n",
       "1268          53.57904           9.936400  \n",
       "3833          53.61471           9.906061  \n",
       "4195          53.63288           9.910497  \n",
       "4864          53.59994           9.917373  \n",
       "5499          53.64182           9.916311  "
      ]
     },
     "execution_count": 14,
     "metadata": {},
     "output_type": "execute_result"
    }
   ],
   "source": [
    "selected_prices.head()"
   ]
  },
  {
   "cell_type": "code",
   "execution_count": 15,
   "metadata": {},
   "outputs": [],
   "source": [
    "df=selected_prices.loc[selected_prices.station_uuid==\"95b23160-eeb2-440f-adc4-245238f24e42\"]\n",
    "#plot(figsize = (12,6))"
   ]
  },
  {
   "cell_type": "code",
   "execution_count": 16,
   "metadata": {},
   "outputs": [],
   "source": [
    "df.loc[:,'date']=pd.to_datetime(df['date'])"
   ]
  },
  {
   "cell_type": "code",
   "execution_count": 17,
   "metadata": {},
   "outputs": [
    {
     "data": {
      "text/plain": [
       "[<matplotlib.lines.Line2D at 0x111fa8278>]"
      ]
     },
     "execution_count": 17,
     "metadata": {},
     "output_type": "execute_result"
    },
    {
     "data": {
      "image/png": "[encoded data removed]",
      "text/plain": [
       "<Figure size 432x288 with 1 Axes>"
      ]
     },
     "metadata": {
      "needs_background": "light"
     },
     "output_type": "display_data"
    }
   ],
   "source": [
    "\n",
    "i=\"95b23160-eeb2-440f-adc4-245238f24e42\"    \n",
    "df = selected_prices.loc[selected_prices.station_uuid==i]\n",
    "df1 = df.sort_values('date', ascending=True)\n",
    "plt.plot(df1['date'], df1['e5'],label=df1['station_name'].values[0]+df1['station_address'].values[0])\n",
    "\n",
    "#plt.xticks(rotation='vertical')\n",
    "#plt.legend(loc=\"lower left\")"
   ]
  },
  {
   "cell_type": "code",
   "execution_count": 18,
   "metadata": {},
   "outputs": [],
   "source": [
    "pricesproc=pd.read_csv(\"data/processed/2020/01/2020-01-01-prices.csv\")\n"
   ]
  },
  {
   "cell_type": "code",
   "execution_count": 19,
   "metadata": {},
   "outputs": [
    {
     "data": {
      "text/plain": [
       "<matplotlib.legend.Legend at 0x111ff7080>"
      ]
     },
     "execution_count": 19,
     "metadata": {},
     "output_type": "execute_result"
    },
    {
     "data": {
      "image/png": "[encoded data removed]",
      "text/plain": [
       "<Figure size 432x288 with 1 Axes>"
      ]
     },
     "metadata": {
      "needs_background": "light"
     },
     "output_type": "display_data"
    }
   ],
   "source": [
    "df=pricesproc.loc[pricesproc.station_uuid==\"e1a15081-2617-9107-e040-0b0a3dfe563c\"]\n",
    "df1= df.sort_values('date', ascending=True)\n",
    "plt.plot(df['date'], df['e5'],label=df['station_name'].values[0]+\" \"+df['station_address'].values[0])\n",
    "plt.xticks(rotation='vertical')\n",
    "plt.legend(loc=\"lower left\")"
   ]
  },
  {
   "cell_type": "code",
   "execution_count": 20,
   "metadata": {},
   "outputs": [],
   "source": [
    "def loop_days(beg, end):\n",
    "    days_list=[]\n",
    "    for i in range(beg,end+1):\n",
    "        if i<10:\n",
    "            days_list.append(\"0\"+str(i))\n",
    "        elif i>9 and i<32:\n",
    "            days_list.append(str(i))\n",
    "        else:\n",
    "            print(\"smth went wrong\")\n",
    "            return 0\n",
    "    return days_list"
   ]
  },
  {
   "cell_type": "code",
   "execution_count": 21,
   "metadata": {},
   "outputs": [],
   "source": [
    "data_dir = 'data/processed/2020/01'\n",
    "merged_data = pd.DataFrame()\n",
    "spec_id = \"e1a15081-2617-9107-e040-0b0a3dfe563c\"\n",
    "\n",
    "for filename in os.listdir(data_dir):\n",
    "    if \"csv\" in filename:\n",
    "        #print(filename)\n",
    "        dataset=pd.read_csv(os.path.join(data_dir, filename))\n",
    "        #print(\"all \",len(dataset))\n",
    "        dataset_spec=dataset.loc[dataset.station_uuid==spec_id]\n",
    "        #print(\"sel \",len(dataset_spec))\n",
    "        merged_data = merged_data.append(dataset_spec)\n",
    "\n"
   ]
  },
  {
   "cell_type": "code",
   "execution_count": 22,
   "metadata": {},
   "outputs": [],
   "source": [
    "#merged_data.loc[:,'date']=pd.DatetimeIndex(merged_data['date'])\n",
    "merged_data.loc[:,'date']=pd.to_datetime(merged_data['date'])"
   ]
  },
  {
   "cell_type": "code",
   "execution_count": 23,
   "metadata": {},
   "outputs": [],
   "source": [
    "merged_data.sort_values('date', ascending=True, inplace=True)"
   ]
  },
  {
   "cell_type": "code",
   "execution_count": 24,
   "metadata": {},
   "outputs": [
    {
     "data": {
      "text/plain": [
       "1577857383000000000"
      ]
     },
     "execution_count": 24,
     "metadata": {},
     "output_type": "execute_result"
    }
   ],
   "source": [
    "merged_data.date.values[0].item()"
   ]
  },
  {
   "cell_type": "code",
   "execution_count": 25,
   "metadata": {},
   "outputs": [],
   "source": [
    "import matplotlib.dates as mdates\n",
    "\n",
    "\n",
    "def plot_over_time_1(data,to_save=False,name='',gas_type='e5'):\n",
    "\n",
    "    df1= data.sort_values('date', ascending=True)\n",
    "    fig, ax = plt.subplots()\n",
    "    #ax.plot('date', 'adj_close', data=data)\n",
    "    label=gas_type#+\"@\"+df1['station_name'].values[0]+\" \"+df1['station_address'].values[0]\n",
    "    #ax.plot(pd.to_datetime(df1['date']), df1[gas_type])\n",
    "    ax.plot(df1['date'], df1[gas_type])\n",
    "    ax.xaxis.set_major_formatter(mdates.DateFormatter('%D'))\n",
    "    ax.grid(True)\n",
    "    fig.autofmt_xdate()\n",
    "    if to_save:\n",
    "        plt.savefig(\"Plots/\"+name+\".png\", transparent=True)\n",
    "    plt.show()\n",
    "    "
   ]
  },
  {
   "cell_type": "code",
   "execution_count": 26,
   "metadata": {},
   "outputs": [
    {
     "name": "stderr",
     "output_type": "stream",
     "text": [
      "/Library/Frameworks/Python.framework/Versions/3.6/lib/python3.6/site-packages/pandas/plotting/_converter.py:129: FutureWarning: Using an implicitly registered datetime converter for a matplotlib plotting method. The converter was registered by pandas on import. Future versions of pandas will require you to explicitly register matplotlib converters.\n",
      "\n",
      "To register the converters:\n",
      "\t>>> from pandas.plotting import register_matplotlib_converters\n",
      "\t>>> register_matplotlib_converters()\n",
      "  warnings.warn(msg, FutureWarning)\n"
     ]
    },
    {
     "data": {
      "image/png": "[encoded data removed]",
      "text/plain": [
       "<Figure size 432x288 with 1 Axes>"
      ]
     },
     "metadata": {
      "needs_background": "light"
     },
     "output_type": "display_data"
    }
   ],
   "source": [
    "plot_over_time_1(merged_data)"
   ]
  },
  {
   "cell_type": "code",
   "execution_count": 27,
   "metadata": {},
   "outputs": [],
   "source": [
    "def plot_over_time(data,gas_type='e5'):\n",
    "    df1= data.sort_values('date', ascending=True)\n",
    "    plt.plot(df1['date'], df1[gas_type],label=gas_type+\"@\"+df1['station_name'].values[0]+\" \"+df1['station_address'].values[0])\n",
    "    plt.xticks(rotation='vertical')\n",
    "    plt.legend(loc=\"lower left\")\n",
    "    "
   ]
  },
  {
   "cell_type": "code",
   "execution_count": 28,
   "metadata": {},
   "outputs": [
    {
     "data": {
      "image/png": "[encoded data removed]",
      "text/plain": [
       "<Figure size 432x288 with 1 Axes>"
      ]
     },
     "metadata": {
      "needs_background": "light"
     },
     "output_type": "display_data"
    }
   ],
   "source": [
    "plot_over_time(merged_data)"
   ]
  },
  {
   "cell_type": "markdown",
   "metadata": {},
   "source": [
    "Find time per day with the cheapest price:\n",
    " - "
   ]
  },
  {
   "cell_type": "code",
   "execution_count": 29,
   "metadata": {},
   "outputs": [],
   "source": [
    "gas_type='e5'"
   ]
  },
  {
   "cell_type": "code",
   "execution_count": 33,
   "metadata": {},
   "outputs": [],
   "source": [
    "day1 = merged_data.loc[merged_data.date<'2020-01-02']"
   ]
  },
  {
   "cell_type": "code",
   "execution_count": 34,
   "metadata": {},
   "outputs": [
    {
     "data": {
      "image/png": "[encoded data removed]",
      "text/plain": [
       "<Figure size 432x288 with 1 Axes>"
      ]
     },
     "metadata": {
      "needs_background": "light"
     },
     "output_type": "display_data"
    }
   ],
   "source": [
    "plot_over_time_1(day1)"
   ]
  },
  {
   "cell_type": "code",
   "execution_count": 35,
   "metadata": {},
   "outputs": [
    {
     "data": {
      "text/plain": [
       "1.4354285714285715"
      ]
     },
     "execution_count": 35,
     "metadata": {},
     "output_type": "execute_result"
    }
   ],
   "source": [
    "day1.e5.mean()"
   ]
  },
  {
   "cell_type": "code",
   "execution_count": 36,
   "metadata": {},
   "outputs": [
    {
     "data": {
      "text/plain": [
       "1.489"
      ]
     },
     "execution_count": 36,
     "metadata": {},
     "output_type": "execute_result"
    }
   ],
   "source": [
    "day1.e5.max()"
   ]
  },
  {
   "cell_type": "code",
   "execution_count": 37,
   "metadata": {},
   "outputs": [
    {
     "data": {
      "text/plain": [
       "1.4362727272727276"
      ]
     },
     "execution_count": 37,
     "metadata": {},
     "output_type": "execute_result"
    }
   ],
   "source": [
    "day1.loc[day1.e5change==1].e5.mean()"
   ]
  },
  {
   "cell_type": "code",
   "execution_count": 38,
   "metadata": {},
   "outputs": [
    {
     "data": {
      "text/plain": [
       "1.409"
      ]
     },
     "execution_count": 38,
     "metadata": {},
     "output_type": "execute_result"
    }
   ],
   "source": [
    "day1.e5.min()"
   ]
  },
  {
   "cell_type": "code",
   "execution_count": 39,
   "metadata": {},
   "outputs": [],
   "source": [
    "day_1=day1.loc[day1.e5change==1]"
   ]
  },
  {
   "cell_type": "code",
   "execution_count": 40,
   "metadata": {},
   "outputs": [
    {
     "data": {
      "text/plain": [
       "262   2020-01-01 19:11:04+01:00\n",
       "297   2020-01-01 23:31:04+01:00\n",
       "Name: date, dtype: datetime64[ns, pytz.FixedOffset(60)]"
      ]
     },
     "execution_count": 40,
     "metadata": {},
     "output_type": "execute_result"
    }
   ],
   "source": [
    "day_1.date.loc[day_1.e5<=day_1.e5.min()]"
   ]
  },
  {
   "cell_type": "code",
   "execution_count": 41,
   "metadata": {},
   "outputs": [
    {
     "data": {
      "text/plain": [
       "262   2020-01-01 19:11:04+01:00\n",
       "297   2020-01-01 23:31:04+01:00\n",
       "Name: date, dtype: datetime64[ns, pytz.FixedOffset(60)]"
      ]
     },
     "execution_count": 41,
     "metadata": {},
     "output_type": "execute_result"
    }
   ],
   "source": [
    "day1.date.loc[day1.e5<=day1.e5.min()]"
   ]
  },
  {
   "cell_type": "code",
   "execution_count": 42,
   "metadata": {},
   "outputs": [
    {
     "data": {
      "text/html": [
       "<div>\n",
       "<style scoped>\n",
       "    .dataframe tbody tr th:only-of-type {\n",
       "        vertical-align: middle;\n",
       "    }\n",
       "\n",
       "    .dataframe tbody tr th {\n",
       "        vertical-align: top;\n",
       "    }\n",
       "\n",
       "    .dataframe thead th {\n",
       "        text-align: right;\n",
       "    }\n",
       "</style>\n",
       "<table border=\"1\" class=\"dataframe\">\n",
       "  <thead>\n",
       "    <tr style=\"text-align: right;\">\n",
       "      <th></th>\n",
       "      <th>Unnamed: 0</th>\n",
       "      <th>date</th>\n",
       "      <th>station_uuid</th>\n",
       "      <th>diesel</th>\n",
       "      <th>e5</th>\n",
       "      <th>e10</th>\n",
       "      <th>dieselchange</th>\n",
       "      <th>e5change</th>\n",
       "      <th>e10change</th>\n",
       "      <th>station_name</th>\n",
       "      <th>station_address</th>\n",
       "      <th>station_latitude</th>\n",
       "      <th>station_longitude</th>\n",
       "    </tr>\n",
       "  </thead>\n",
       "  <tbody>\n",
       "    <tr>\n",
       "      <th>262</th>\n",
       "      <td>180997</td>\n",
       "      <td>2020-01-01 19:11:04+01:00</td>\n",
       "      <td>e1a15081-2617-9107-e040-0b0a3dfe563c</td>\n",
       "      <td>1.269</td>\n",
       "      <td>1.409</td>\n",
       "      <td>1.389</td>\n",
       "      <td>0</td>\n",
       "      <td>1</td>\n",
       "      <td>1</td>\n",
       "      <td>e1a15081-2617-9107-e040-0b0a3dfe563c</td>\n",
       "      <td>Kieler Str.</td>\n",
       "      <td>53.58875</td>\n",
       "      <td>9.930771</td>\n",
       "    </tr>\n",
       "    <tr>\n",
       "      <th>297</th>\n",
       "      <td>207399</td>\n",
       "      <td>2020-01-01 23:31:04+01:00</td>\n",
       "      <td>e1a15081-2617-9107-e040-0b0a3dfe563c</td>\n",
       "      <td>1.269</td>\n",
       "      <td>1.409</td>\n",
       "      <td>1.389</td>\n",
       "      <td>1</td>\n",
       "      <td>1</td>\n",
       "      <td>1</td>\n",
       "      <td>e1a15081-2617-9107-e040-0b0a3dfe563c</td>\n",
       "      <td>Kieler Str.</td>\n",
       "      <td>53.58875</td>\n",
       "      <td>9.930771</td>\n",
       "    </tr>\n",
       "  </tbody>\n",
       "</table>\n",
       "</div>"
      ],
      "text/plain": [
       "     Unnamed: 0                      date  \\\n",
       "262      180997 2020-01-01 19:11:04+01:00   \n",
       "297      207399 2020-01-01 23:31:04+01:00   \n",
       "\n",
       "                             station_uuid  diesel     e5    e10  dieselchange  \\\n",
       "262  e1a15081-2617-9107-e040-0b0a3dfe563c   1.269  1.409  1.389             0   \n",
       "297  e1a15081-2617-9107-e040-0b0a3dfe563c   1.269  1.409  1.389             1   \n",
       "\n",
       "     e5change  e10change                          station_name  \\\n",
       "262         1          1  e1a15081-2617-9107-e040-0b0a3dfe563c   \n",
       "297         1          1  e1a15081-2617-9107-e040-0b0a3dfe563c   \n",
       "\n",
       "    station_address  station_latitude  station_longitude  \n",
       "262     Kieler Str.          53.58875           9.930771  \n",
       "297     Kieler Str.          53.58875           9.930771  "
      ]
     },
     "execution_count": 42,
     "metadata": {},
     "output_type": "execute_result"
    }
   ],
   "source": [
    "day1.loc[day1.e5<=day1.e5.min()]"
   ]
  },
  {
   "cell_type": "code",
   "execution_count": 43,
   "metadata": {},
   "outputs": [
    {
     "ename": "AttributeError",
     "evalue": "'numpy.datetime64' object has no attribute 'hour'",
     "output_type": "error",
     "traceback": [
      "\u001b[0;31m---------------------------------------------------------------------------\u001b[0m",
      "\u001b[0;31mAttributeError\u001b[0m                            Traceback (most recent call last)",
      "\u001b[0;32m<ipython-input-43-7877c00d4726>\u001b[0m in \u001b[0;36m<module>\u001b[0;34m\u001b[0m\n\u001b[0;32m----> 1\u001b[0;31m \u001b[0mday1\u001b[0m\u001b[0;34m.\u001b[0m\u001b[0mdate\u001b[0m\u001b[0;34m.\u001b[0m\u001b[0mloc\u001b[0m\u001b[0;34m[\u001b[0m\u001b[0mday1\u001b[0m\u001b[0;34m.\u001b[0m\u001b[0me5\u001b[0m\u001b[0;34m<=\u001b[0m\u001b[0mday1\u001b[0m\u001b[0;34m.\u001b[0m\u001b[0me5\u001b[0m\u001b[0;34m.\u001b[0m\u001b[0mmin\u001b[0m\u001b[0;34m(\u001b[0m\u001b[0;34m)\u001b[0m\u001b[0;34m]\u001b[0m\u001b[0;34m.\u001b[0m\u001b[0mvalues\u001b[0m\u001b[0;34m[\u001b[0m\u001b[0;36m0\u001b[0m\u001b[0;34m]\u001b[0m\u001b[0;34m.\u001b[0m\u001b[0mhour\u001b[0m\u001b[0;34m\u001b[0m\u001b[0;34m\u001b[0m\u001b[0m\n\u001b[0m",
      "\u001b[0;31mAttributeError\u001b[0m: 'numpy.datetime64' object has no attribute 'hour'"
     ]
    }
   ],
   "source": [
    "day1.date.loc[day1.e5<=day1.e5.min()].values[0].hour"
   ]
  },
  {
   "cell_type": "code",
   "execution_count": 44,
   "metadata": {},
   "outputs": [],
   "source": [
    "#if not convert earlier\n",
    "#datetime_object = datetime.strptime(day1.date.loc[day1.e5<=day1.e5.min()].values[1], '%Y-%m-%d %H:%M:%S+01')"
   ]
  },
  {
   "cell_type": "code",
   "execution_count": 45,
   "metadata": {},
   "outputs": [
    {
     "data": {
      "text/plain": [
       "datetime.datetime(2020, 1, 1, 4, 2, 3)"
      ]
     },
     "execution_count": 45,
     "metadata": {},
     "output_type": "execute_result"
    }
   ],
   "source": [
    "datetime_object"
   ]
  },
  {
   "cell_type": "code",
   "execution_count": 46,
   "metadata": {},
   "outputs": [
    {
     "data": {
      "text/plain": [
       "2"
      ]
     },
     "execution_count": 46,
     "metadata": {},
     "output_type": "execute_result"
    }
   ],
   "source": [
    "datetime_object.weekday()"
   ]
  },
  {
   "cell_type": "code",
   "execution_count": 47,
   "metadata": {},
   "outputs": [],
   "source": [
    "today = datetime.strptime(\"2020-02-02 17:05:01+01\", '%Y-%m-%d %H:%M:%S+01')"
   ]
  },
  {
   "cell_type": "code",
   "execution_count": 48,
   "metadata": {},
   "outputs": [
    {
     "data": {
      "text/plain": [
       "6"
      ]
     },
     "execution_count": 48,
     "metadata": {},
     "output_type": "execute_result"
    }
   ],
   "source": [
    "today.weekday()"
   ]
  },
  {
   "cell_type": "code",
   "execution_count": 49,
   "metadata": {},
   "outputs": [],
   "source": [
    "def extract_hour(time_str):\n",
    "    datetime_object=datetime.strptime(time_str, '%Y-%m-%d %H:%M:%S+01')\n",
    "    return datetime_object.time().hour"
   ]
  },
  {
   "cell_type": "code",
   "execution_count": 50,
   "metadata": {},
   "outputs": [
    {
     "data": {
      "text/plain": [
       "4"
      ]
     },
     "execution_count": 50,
     "metadata": {},
     "output_type": "execute_result"
    }
   ],
   "source": [
    "datetime_object.time().hour"
   ]
  },
  {
   "cell_type": "code",
   "execution_count": 51,
   "metadata": {},
   "outputs": [
    {
     "name": "stdout",
     "output_type": "stream",
     "text": [
      "2020-01-01 06:43:03+01:00 2020-01-01 23:31:04+01:00\n"
     ]
    }
   ],
   "source": [
    "print(day_1.date.min(),day_1.date.max())"
   ]
  },
  {
   "cell_type": "code",
   "execution_count": 52,
   "metadata": {},
   "outputs": [],
   "source": [
    "import calendar\n",
    "\n",
    "def month_range(mon,year=2020):\n",
    "    ndays = calendar.monthrange(year,mon)[1]    \n",
    "    m_range=range(1,ndays+1)\n",
    "    return m_range"
   ]
  },
  {
   "cell_type": "code",
   "execution_count": 53,
   "metadata": {},
   "outputs": [
    {
     "data": {
      "text/plain": [
       "'Jan'"
      ]
     },
     "execution_count": 53,
     "metadata": {},
     "output_type": "execute_result"
    }
   ],
   "source": [
    "calendar.month_abbr[1]"
   ]
  },
  {
   "cell_type": "code",
   "execution_count": 54,
   "metadata": {},
   "outputs": [],
   "source": [
    "def get_lowprice_time(df,month=1,year=2020):\n",
    "    time_lowest_price = []\n",
    "\n",
    "    for i in month_range(month,year):\n",
    "        dval = \"\"\n",
    "        if i<10:\n",
    "            dval = \"0\"+str(i+1)\n",
    "        elif i>9:\n",
    "            dval = str(i+1)\n",
    "            #print(i)\n",
    "        df0 = df.loc[(df.date>'2020-01-0'+str(i))&(df.date<'2020-01-'+dval)]\n",
    "        \n",
    "        #df = df0.loc[df0.e5change==1]\n",
    "        tmp=\"\"\n",
    "        for j in df0.date.loc[df0.e5<=df0.e5.min()]:\n",
    "            if not tmp:\n",
    "                time_lowest_price.append(extract_hour(j)) \n",
    "            elif tmp:\n",
    "                if extract_hour(tmp)!=extract_hour(j):\n",
    "                    time_lowest_price.append(extract_hour(j))                \n",
    "                    #print(j,\", \",df0.e5)\n",
    "            #elif extract_hour(tmp)==extract_hour(j):\n",
    "                #print(\"repeat : \",j)\n",
    "            tmp=j\n",
    "    #print(\", df0 = \",len(df0),\"; change \",len(df))\n",
    "    #time_lowest_price.append(df.date.loc[df.e5<=df.e5.min()])\n",
    "    t_array = np.asarray(time_lowest_price)\n",
    "    nbins=t_array.max()-t_array.min()\n",
    "    plt.hist(t_array, bins=nbins,rwidth=0.9)\n",
    "    plt.title('Time of the day when the gas price is lowest')\n",
    "    plt.xlabel('Hour')\n",
    "    plt.ylabel('Frequency')\n",
    "    plt.tight_layout()\n",
    "    plt.savefig(\"Plots/cheapest_hour_m\"+calendar.month_abbr[month]+str(year)+\".png\", transparent=True)\n",
    "    return t_array"
   ]
  },
  {
   "cell_type": "code",
   "execution_count": 55,
   "metadata": {},
   "outputs": [
    {
     "ename": "TypeError",
     "evalue": "strptime() argument 1 must be str, not Timestamp",
     "output_type": "error",
     "traceback": [
      "\u001b[0;31m---------------------------------------------------------------------------\u001b[0m",
      "\u001b[0;31mTypeError\u001b[0m                                 Traceback (most recent call last)",
      "\u001b[0;32m<ipython-input-55-55c23ddee794>\u001b[0m in \u001b[0;36m<module>\u001b[0;34m\u001b[0m\n\u001b[0;32m----> 1\u001b[0;31m \u001b[0mt_array1\u001b[0m\u001b[0;34m=\u001b[0m\u001b[0mget_lowprice_time\u001b[0m\u001b[0;34m(\u001b[0m\u001b[0mmerged_data\u001b[0m\u001b[0;34m.\u001b[0m\u001b[0mloc\u001b[0m\u001b[0;34m[\u001b[0m\u001b[0mmerged_data\u001b[0m\u001b[0;34m.\u001b[0m\u001b[0me5change\u001b[0m\u001b[0;34m==\u001b[0m\u001b[0;36m1\u001b[0m\u001b[0;34m]\u001b[0m\u001b[0;34m)\u001b[0m\u001b[0;34m\u001b[0m\u001b[0;34m\u001b[0m\u001b[0m\n\u001b[0m",
      "\u001b[0;32m<ipython-input-54-68734379b7a1>\u001b[0m in \u001b[0;36mget_lowprice_time\u001b[0;34m(df, month, year)\u001b[0m\n\u001b[1;32m     15\u001b[0m         \u001b[0;32mfor\u001b[0m \u001b[0mj\u001b[0m \u001b[0;32min\u001b[0m \u001b[0mdf0\u001b[0m\u001b[0;34m.\u001b[0m\u001b[0mdate\u001b[0m\u001b[0;34m.\u001b[0m\u001b[0mloc\u001b[0m\u001b[0;34m[\u001b[0m\u001b[0mdf0\u001b[0m\u001b[0;34m.\u001b[0m\u001b[0me5\u001b[0m\u001b[0;34m<=\u001b[0m\u001b[0mdf0\u001b[0m\u001b[0;34m.\u001b[0m\u001b[0me5\u001b[0m\u001b[0;34m.\u001b[0m\u001b[0mmin\u001b[0m\u001b[0;34m(\u001b[0m\u001b[0;34m)\u001b[0m\u001b[0;34m]\u001b[0m\u001b[0;34m:\u001b[0m\u001b[0;34m\u001b[0m\u001b[0;34m\u001b[0m\u001b[0m\n\u001b[1;32m     16\u001b[0m             \u001b[0;32mif\u001b[0m \u001b[0;32mnot\u001b[0m \u001b[0mtmp\u001b[0m\u001b[0;34m:\u001b[0m\u001b[0;34m\u001b[0m\u001b[0;34m\u001b[0m\u001b[0m\n\u001b[0;32m---> 17\u001b[0;31m                 \u001b[0mtime_lowest_price\u001b[0m\u001b[0;34m.\u001b[0m\u001b[0mappend\u001b[0m\u001b[0;34m(\u001b[0m\u001b[0mextract_hour\u001b[0m\u001b[0;34m(\u001b[0m\u001b[0mj\u001b[0m\u001b[0;34m)\u001b[0m\u001b[0;34m)\u001b[0m\u001b[0;34m\u001b[0m\u001b[0;34m\u001b[0m\u001b[0m\n\u001b[0m\u001b[1;32m     18\u001b[0m             \u001b[0;32melif\u001b[0m \u001b[0mtmp\u001b[0m\u001b[0;34m:\u001b[0m\u001b[0;34m\u001b[0m\u001b[0;34m\u001b[0m\u001b[0m\n\u001b[1;32m     19\u001b[0m                 \u001b[0;32mif\u001b[0m \u001b[0mextract_hour\u001b[0m\u001b[0;34m(\u001b[0m\u001b[0mtmp\u001b[0m\u001b[0;34m)\u001b[0m\u001b[0;34m!=\u001b[0m\u001b[0mextract_hour\u001b[0m\u001b[0;34m(\u001b[0m\u001b[0mj\u001b[0m\u001b[0;34m)\u001b[0m\u001b[0;34m:\u001b[0m\u001b[0;34m\u001b[0m\u001b[0;34m\u001b[0m\u001b[0m\n",
      "\u001b[0;32m<ipython-input-49-15d03045b7da>\u001b[0m in \u001b[0;36mextract_hour\u001b[0;34m(time_str)\u001b[0m\n\u001b[1;32m      1\u001b[0m \u001b[0;32mdef\u001b[0m \u001b[0mextract_hour\u001b[0m\u001b[0;34m(\u001b[0m\u001b[0mtime_str\u001b[0m\u001b[0;34m)\u001b[0m\u001b[0;34m:\u001b[0m\u001b[0;34m\u001b[0m\u001b[0;34m\u001b[0m\u001b[0m\n\u001b[0;32m----> 2\u001b[0;31m     \u001b[0mdatetime_object\u001b[0m\u001b[0;34m=\u001b[0m\u001b[0mdatetime\u001b[0m\u001b[0;34m.\u001b[0m\u001b[0mstrptime\u001b[0m\u001b[0;34m(\u001b[0m\u001b[0mtime_str\u001b[0m\u001b[0;34m,\u001b[0m \u001b[0;34m'%Y-%m-%d %H:%M:%S+01'\u001b[0m\u001b[0;34m)\u001b[0m\u001b[0;34m\u001b[0m\u001b[0;34m\u001b[0m\u001b[0m\n\u001b[0m\u001b[1;32m      3\u001b[0m     \u001b[0;32mreturn\u001b[0m \u001b[0mdatetime_object\u001b[0m\u001b[0;34m.\u001b[0m\u001b[0mtime\u001b[0m\u001b[0;34m(\u001b[0m\u001b[0;34m)\u001b[0m\u001b[0;34m.\u001b[0m\u001b[0mhour\u001b[0m\u001b[0;34m\u001b[0m\u001b[0;34m\u001b[0m\u001b[0m\n",
      "\u001b[0;31mTypeError\u001b[0m: strptime() argument 1 must be str, not Timestamp"
     ]
    }
   ],
   "source": [
    "t_array1=get_lowprice_time(merged_data.loc[merged_data.e5change==1])"
   ]
  },
  {
   "cell_type": "code",
   "execution_count": 56,
   "metadata": {},
   "outputs": [
    {
     "ename": "TypeError",
     "evalue": "strptime() argument 1 must be str, not Timestamp",
     "output_type": "error",
     "traceback": [
      "\u001b[0;31m---------------------------------------------------------------------------\u001b[0m",
      "\u001b[0;31mTypeError\u001b[0m                                 Traceback (most recent call last)",
      "\u001b[0;32m<ipython-input-56-e0e278964a33>\u001b[0m in \u001b[0;36m<module>\u001b[0;34m\u001b[0m\n\u001b[1;32m      1\u001b[0m \u001b[0;31m#t_array = np.asarray(time_lowest_price)\u001b[0m\u001b[0;34m\u001b[0m\u001b[0;34m\u001b[0m\u001b[0;34m\u001b[0m\u001b[0m\n\u001b[0;32m----> 2\u001b[0;31m \u001b[0mt_array\u001b[0m\u001b[0;34m=\u001b[0m\u001b[0mget_lowprice_time\u001b[0m\u001b[0;34m(\u001b[0m\u001b[0mmerged_data\u001b[0m\u001b[0;34m)\u001b[0m\u001b[0;34m\u001b[0m\u001b[0;34m\u001b[0m\u001b[0m\n\u001b[0m",
      "\u001b[0;32m<ipython-input-54-68734379b7a1>\u001b[0m in \u001b[0;36mget_lowprice_time\u001b[0;34m(df, month, year)\u001b[0m\n\u001b[1;32m     15\u001b[0m         \u001b[0;32mfor\u001b[0m \u001b[0mj\u001b[0m \u001b[0;32min\u001b[0m \u001b[0mdf0\u001b[0m\u001b[0;34m.\u001b[0m\u001b[0mdate\u001b[0m\u001b[0;34m.\u001b[0m\u001b[0mloc\u001b[0m\u001b[0;34m[\u001b[0m\u001b[0mdf0\u001b[0m\u001b[0;34m.\u001b[0m\u001b[0me5\u001b[0m\u001b[0;34m<=\u001b[0m\u001b[0mdf0\u001b[0m\u001b[0;34m.\u001b[0m\u001b[0me5\u001b[0m\u001b[0;34m.\u001b[0m\u001b[0mmin\u001b[0m\u001b[0;34m(\u001b[0m\u001b[0;34m)\u001b[0m\u001b[0;34m]\u001b[0m\u001b[0;34m:\u001b[0m\u001b[0;34m\u001b[0m\u001b[0;34m\u001b[0m\u001b[0m\n\u001b[1;32m     16\u001b[0m             \u001b[0;32mif\u001b[0m \u001b[0;32mnot\u001b[0m \u001b[0mtmp\u001b[0m\u001b[0;34m:\u001b[0m\u001b[0;34m\u001b[0m\u001b[0;34m\u001b[0m\u001b[0m\n\u001b[0;32m---> 17\u001b[0;31m                 \u001b[0mtime_lowest_price\u001b[0m\u001b[0;34m.\u001b[0m\u001b[0mappend\u001b[0m\u001b[0;34m(\u001b[0m\u001b[0mextract_hour\u001b[0m\u001b[0;34m(\u001b[0m\u001b[0mj\u001b[0m\u001b[0;34m)\u001b[0m\u001b[0;34m)\u001b[0m\u001b[0;34m\u001b[0m\u001b[0;34m\u001b[0m\u001b[0m\n\u001b[0m\u001b[1;32m     18\u001b[0m             \u001b[0;32melif\u001b[0m \u001b[0mtmp\u001b[0m\u001b[0;34m:\u001b[0m\u001b[0;34m\u001b[0m\u001b[0;34m\u001b[0m\u001b[0m\n\u001b[1;32m     19\u001b[0m                 \u001b[0;32mif\u001b[0m \u001b[0mextract_hour\u001b[0m\u001b[0;34m(\u001b[0m\u001b[0mtmp\u001b[0m\u001b[0;34m)\u001b[0m\u001b[0;34m!=\u001b[0m\u001b[0mextract_hour\u001b[0m\u001b[0;34m(\u001b[0m\u001b[0mj\u001b[0m\u001b[0;34m)\u001b[0m\u001b[0;34m:\u001b[0m\u001b[0;34m\u001b[0m\u001b[0;34m\u001b[0m\u001b[0m\n",
      "\u001b[0;32m<ipython-input-49-15d03045b7da>\u001b[0m in \u001b[0;36mextract_hour\u001b[0;34m(time_str)\u001b[0m\n\u001b[1;32m      1\u001b[0m \u001b[0;32mdef\u001b[0m \u001b[0mextract_hour\u001b[0m\u001b[0;34m(\u001b[0m\u001b[0mtime_str\u001b[0m\u001b[0;34m)\u001b[0m\u001b[0;34m:\u001b[0m\u001b[0;34m\u001b[0m\u001b[0;34m\u001b[0m\u001b[0m\n\u001b[0;32m----> 2\u001b[0;31m     \u001b[0mdatetime_object\u001b[0m\u001b[0;34m=\u001b[0m\u001b[0mdatetime\u001b[0m\u001b[0;34m.\u001b[0m\u001b[0mstrptime\u001b[0m\u001b[0;34m(\u001b[0m\u001b[0mtime_str\u001b[0m\u001b[0;34m,\u001b[0m \u001b[0;34m'%Y-%m-%d %H:%M:%S+01'\u001b[0m\u001b[0;34m)\u001b[0m\u001b[0;34m\u001b[0m\u001b[0;34m\u001b[0m\u001b[0m\n\u001b[0m\u001b[1;32m      3\u001b[0m     \u001b[0;32mreturn\u001b[0m \u001b[0mdatetime_object\u001b[0m\u001b[0;34m.\u001b[0m\u001b[0mtime\u001b[0m\u001b[0;34m(\u001b[0m\u001b[0;34m)\u001b[0m\u001b[0;34m.\u001b[0m\u001b[0mhour\u001b[0m\u001b[0;34m\u001b[0m\u001b[0;34m\u001b[0m\u001b[0m\n",
      "\u001b[0;31mTypeError\u001b[0m: strptime() argument 1 must be str, not Timestamp"
     ]
    }
   ],
   "source": [
    "#t_array = np.asarray(time_lowest_price)\n",
    "t_array=get_lowprice_time(merged_data)"
   ]
  },
  {
   "cell_type": "markdown",
   "metadata": {},
   "source": [
    "Prepare for training\n"
   ]
  },
  {
   "cell_type": "code",
   "execution_count": 57,
   "metadata": {},
   "outputs": [],
   "source": [
    "\n",
    "spec_id = \"e1a15081-2617-9107-e040-0b0a3dfe563c\"\n",
    "\n"
   ]
  },
  {
   "cell_type": "code",
   "execution_count": 58,
   "metadata": {},
   "outputs": [
    {
     "name": "stdout",
     "output_type": "stream",
     "text": [
      "2019-12-23-prices.csv\n",
      "2019-12-14-prices.csv\n",
      "2019-01-08-prices.csv\n",
      "2019-04-17-prices.csv\n",
      "2019-04-20-prices.csv\n",
      "2019-05-14-prices.csv\n",
      "2019-05-23-prices.csv\n",
      "2019-09-09-prices.csv\n",
      "2019-10-25-prices.csv\n",
      "2019-10-12-prices.csv\n",
      "2019-06-11-prices.csv\n",
      "2019-06-26-prices.csv\n",
      "2019-11-26-prices.csv\n",
      "2019-11-11-prices.csv\n",
      "2019-07-12-prices.csv\n",
      "2019-07-25-prices.csv\n",
      "2019-01-23-prices.csv\n",
      "2019-08-16-prices.csv\n",
      "2019-08-21-prices.csv\n",
      "2019-01-14-prices.csv\n",
      "2019-12-08-prices.csv\n",
      "2019-09-15-prices.csv\n",
      "2019-09-22-prices.csv\n",
      "2019-05-08-prices.csv\n",
      "2019-03-25-prices.csv\n",
      "2020-01-17-prices.csv\n",
      "2020-01-20-prices.csv\n",
      "2019-03-12-prices.csv\n",
      "2019-02-26-prices.csv\n",
      "2019-02-11-prices.csv\n",
      "2019-07-28-prices.csv\n",
      "2019-10-28-prices.csv\n",
      "2019-03-03-prices.csv\n",
      "2020-01-31-prices.csv\n",
      "2020-01-06-prices.csv\n",
      "2019-05-19-prices.csv\n",
      "2020-02-03-prices.csv\n",
      "2019-09-04-prices.csv\n",
      "2019-12-19-prices.csv\n",
      "2019-08-30-prices.csv\n",
      "2019-01-05-prices.csv\n",
      "2019-08-07-prices.csv\n",
      "2019-07-03-prices.csv\n",
      "2019-03-28-prices.csv\n",
      "2019-10-03-prices.csv\n",
      "2019-09-18-prices.csv\n",
      "2019-05-05-prices.csv\n",
      "2019-04-06-prices.csv\n",
      "2019-01-19-prices.csv\n",
      "2019-12-05-prices.csv\n",
      "2019-09-01-prices.csv\n",
      "2019-04-28-prices.csv\n",
      "2019-08-02-prices.csv\n",
      "2019-02-05-prices.csv\n",
      "2019-11-19-prices.csv\n",
      "2019-03-31-prices.csv\n",
      "2020-01-03-prices.csv\n",
      "2019-06-19-prices.csv\n",
      "2019-03-06-prices.csv\n",
      "2019-08-29-prices.csv\n",
      "2019-04-03-prices.csv\n",
      "2019-11-05-prices.csv\n",
      "2019-02-19-prices.csv\n",
      "2019-07-06-prices.csv\n",
      "2019-07-31-prices.csv\n",
      "2019-10-31-prices.csv\n",
      "2019-10-06-prices.csv\n",
      "2020-01-28-prices.csv\n",
      "2019-06-05-prices.csv\n",
      "2019-06-23-prices.csv\n",
      "2019-06-14-prices.csv\n",
      "2019-10-17-prices.csv\n",
      "2019-10-20-prices.csv\n",
      "2019-07-20-prices.csv\n",
      "2019-07-17-prices.csv\n",
      "2019-02-08-prices.csv\n",
      "2019-11-14-prices.csv\n",
      "2019-11-23-prices.csv\n",
      "2019-04-25-prices.csv\n",
      "2019-04-12-prices.csv\n",
      "2019-12-11-prices.csv\n",
      "2019-12-26-prices.csv\n",
      "2019-05-26-prices.csv\n",
      "2019-05-11-prices.csv\n",
      "2019-03-17-prices.csv\n",
      "2020-01-25-prices.csv\n",
      "2019-06-08-prices.csv\n",
      "2020-01-12-prices.csv\n",
      "2019-03-20-prices.csv\n",
      "2019-11-08-prices.csv\n",
      "2019-02-14-prices.csv\n",
      "2019-02-23-prices.csv\n",
      "2019-08-24-prices.csv\n",
      "2019-01-11-prices.csv\n",
      "2019-01-26-prices.csv\n",
      "2019-08-13-prices.csv\n",
      "2019-09-27-prices.csv\n",
      "2019-09-10-prices.csv\n",
      "2019-01-16-prices.csv\n",
      "2019-04-09-prices.csv\n",
      "2019-08-23-prices.csv\n",
      "2019-08-14-prices.csv\n",
      "2019-01-21-prices.csv\n",
      "2019-09-20-prices.csv\n",
      "2019-09-17-prices.csv\n",
      "2019-03-10-prices.csv\n",
      "2020-01-22-prices.csv\n",
      "2020-01-15-prices.csv\n",
      "2019-03-27-prices.csv\n",
      "2019-02-13-prices.csv\n",
      "2019-02-24-prices.csv\n",
      "2019-12-16-prices.csv\n",
      "2019-12-21-prices.csv\n",
      "2019-08-08-prices.csv\n",
      "2019-04-22-prices.csv\n",
      "2019-04-15-prices.csv\n",
      "2019-05-21-prices.csv\n",
      "2019-05-16-prices.csv\n",
      "2019-10-10-prices.csv\n",
      "2019-10-27-prices.csv\n",
      "2020-01-09-prices.csv\n",
      "2019-06-24-prices.csv\n",
      "2019-06-13-prices.csv\n",
      "2019-11-13-prices.csv\n",
      "2019-11-24-prices.csv\n",
      "2019-07-27-prices.csv\n",
      "2019-07-10-prices.csv\n",
      "2019-07-01-prices.csv\n",
      "2019-11-02-prices.csv\n",
      "2019-06-02-prices.csv\n",
      "2020-01-18-prices.csv\n",
      "2019-10-01-prices.csv\n",
      "2019-05-07-prices.csv\n",
      "2019-05-30-prices.csv\n",
      "2019-04-04-prices.csv\n",
      "2019-08-19-prices.csv\n",
      "2019-12-30-prices.csv\n",
      "2019-12-07-prices.csv\n",
      "2019-11-29-prices.csv\n",
      "2019-02-02-prices.csv\n",
      "2020-01-04-prices.csv\n",
      "2019-06-29-prices.csv\n",
      "2019-03-01-prices.csv\n",
      "2019-09-06-prices.csv\n",
      "2020-02-01-prices.csv\n",
      "2019-08-05-prices.csv\n",
      "2019-01-30-prices.csv\n",
      "2019-04-18-prices.csv\n",
      "2019-01-07-prices.csv\n",
      "2019-05-02-prices.csv\n",
      "2019-09-28-prices.csv\n",
      "2019-12-02-prices.csv\n",
      "2019-01-29-prices.csv\n",
      "2019-04-01-prices.csv\n",
      "2019-11-07-prices.csv\n",
      "2019-11-30-prices.csv\n",
      "2019-07-04-prices.csv\n",
      "2019-10-04-prices.csv\n",
      "2019-06-30-prices.csv\n",
      "2019-06-07-prices.csv\n",
      "2019-03-18-prices.csv\n",
      "2019-09-03-prices.csv\n",
      "2019-05-29-prices.csv\n",
      "2020-02-04-prices.csv\n",
      "2019-01-02-prices.csv\n",
      "2019-12-29-prices.csv\n",
      "2019-02-07-prices.csv\n",
      "2019-07-18-prices.csv\n",
      "2019-03-04-prices.csv\n",
      "2020-01-01-prices.csv\n",
      "2019-10-18-prices.csv\n",
      "2019-10-09-prices.csv\n",
      "2019-03-22-prices.csv\n",
      "2020-01-10-prices.csv\n",
      "2020-01-27-prices.csv\n",
      "2019-03-15-prices.csv\n",
      "2019-02-21-prices.csv\n",
      "2019-07-09-prices.csv\n",
      "2019-02-16-prices.csv\n",
      "2019-08-11-prices.csv\n",
      "2019-01-24-prices.csv\n",
      "2019-01-13-prices.csv\n",
      "2019-08-26-prices.csv\n",
      "2019-09-12-prices.csv\n",
      "2019-09-25-prices.csv\n",
      "2019-03-09-prices.csv\n",
      "2019-06-16-prices.csv\n",
      "2019-06-21-prices.csv\n",
      "2019-10-22-prices.csv\n",
      "2019-10-15-prices.csv\n",
      "2019-07-15-prices.csv\n",
      "2019-07-22-prices.csv\n",
      "2019-11-21-prices.csv\n",
      "2019-11-16-prices.csv\n",
      "2019-04-10-prices.csv\n",
      "2019-04-27-prices.csv\n",
      "2019-12-24-prices.csv\n",
      "2019-12-13-prices.csv\n",
      "2019-05-13-prices.csv\n",
      "2019-05-24-prices.csv\n",
      "2019-02-04-prices.csv\n",
      "2019-11-18-prices.csv\n",
      "2020-01-02-prices.csv\n",
      "2019-03-30-prices.csv\n",
      "2019-03-07-prices.csv\n",
      "2019-06-18-prices.csv\n",
      "2019-08-03-prices.csv\n",
      "2019-04-29-prices.csv\n",
      "2019-01-01-prices.csv\n",
      "2019-11-04-prices.csv\n",
      "2019-07-07-prices.csv\n",
      "2019-02-18-prices.csv\n",
      "2019-07-30-prices.csv\n",
      "2019-10-30-prices.csv\n",
      "2019-10-07-prices.csv\n",
      "2019-06-04-prices.csv\n",
      "2020-01-29-prices.csv\n",
      "2019-05-01-prices.csv\n",
      "2019-12-01-prices.csv\n",
      "2019-04-02-prices.csv\n",
      "2019-08-28-prices.csv\n",
      "2019-04-24-prices.csv\n",
      "2019-04-13-prices.csv\n",
      "2019-12-10-prices.csv\n",
      "2019-12-27-prices.csv\n",
      "2019-05-27-prices.csv\n",
      "2019-05-10-prices.csv\n",
      "2019-06-22-prices.csv\n",
      "2019-06-15-prices.csv\n",
      "2019-10-16-prices.csv\n",
      "2019-10-21-prices.csv\n",
      "2019-07-21-prices.csv\n",
      "2019-02-09-prices.csv\n",
      "2019-07-16-prices.csv\n",
      "2019-11-15-prices.csv\n",
      "2019-11-22-prices.csv\n",
      "2019-01-10-prices.csv\n",
      "2019-08-25-prices.csv\n",
      "2019-08-12-prices.csv\n",
      "2019-01-27-prices.csv\n",
      "2019-09-26-prices.csv\n",
      "2019-09-11-prices.csv\n",
      "2019-06-09-prices.csv\n",
      "2020-01-24-prices.csv\n",
      "2019-03-16-prices.csv\n",
      "2019-03-21-prices.csv\n",
      "2020-01-13-prices.csv\n",
      "2019-11-09-prices.csv\n",
      "2019-02-15-prices.csv\n",
      "2019-02-22-prices.csv\n",
      "2019-10-24-prices.csv\n",
      "2019-10-13-prices.csv\n",
      "2019-06-10-prices.csv\n",
      "2019-06-27-prices.csv\n",
      "2019-11-27-prices.csv\n",
      "2019-11-10-prices.csv\n",
      "2019-07-13-prices.csv\n",
      "2019-07-24-prices.csv\n",
      "2019-12-22-prices.csv\n",
      "2019-12-15-prices.csv\n",
      "2019-04-16-prices.csv\n",
      "2019-01-09-prices.csv\n",
      "2019-04-21-prices.csv\n",
      "2019-05-15-prices.csv\n",
      "2019-09-08-prices.csv\n",
      "2019-05-22-prices.csv\n",
      "2020-01-16-prices.csv\n",
      "2019-03-24-prices.csv\n",
      "2019-03-13-prices.csv\n",
      "2020-01-21-prices.csv\n",
      "2019-02-27-prices.csv\n",
      "2019-02-10-prices.csv\n",
      "2019-08-17-prices.csv\n",
      "2019-01-22-prices.csv\n",
      "2019-01-15-prices.csv\n",
      "2019-08-20-prices.csv\n",
      "2019-12-09-prices.csv\n",
      "2019-09-14-prices.csv\n",
      "2019-05-09-prices.csv\n",
      "2019-09-23-prices.csv\n",
      "2019-05-18-prices.csv\n",
      "2019-09-05-prices.csv\n",
      "2020-02-02-prices.csv\n",
      "2019-12-18-prices.csv\n",
      "2019-01-04-prices.csv\n",
      "2019-08-31-prices.csv\n",
      "2019-08-06-prices.csv\n",
      "2019-02-01-prices.csv\n",
      "2019-07-29-prices.csv\n",
      "2019-10-29-prices.csv\n",
      "2020-01-30-prices.csv\n",
      "2019-03-02-prices.csv\n",
      "2020-01-07-prices.csv\n",
      "2019-09-19-prices.csv\n",
      "2019-05-04-prices.csv\n",
      "2019-04-30-prices.csv\n",
      "2019-01-18-prices.csv\n",
      "2019-04-07-prices.csv\n",
      "2019-12-04-prices.csv\n",
      "2019-07-02-prices.csv\n",
      "2019-11-01-prices.csv\n",
      "2019-03-29-prices.csv\n",
      "2019-06-01-prices.csv\n",
      "2019-10-02-prices.csv\n",
      "2019-11-06-prices.csv\n",
      "2019-07-05-prices.csv\n",
      "2019-10-05-prices.csv\n",
      "2019-03-19-prices.csv\n",
      "2019-06-06-prices.csv\n",
      "2019-09-29-prices.csv\n",
      "2019-05-03-prices.csv\n",
      "2019-12-03-prices.csv\n",
      "2019-01-28-prices.csv\n",
      "2019-07-19-prices.csv\n",
      "2019-02-06-prices.csv\n",
      "2019-03-05-prices.csv\n",
      "2019-10-19-prices.csv\n",
      "2019-05-28-prices.csv\n",
      "2019-09-02-prices.csv\n",
      "2019-01-03-prices.csv\n",
      "2019-08-01-prices.csv\n",
      "2019-12-28-prices.csv\n",
      "2019-01-25-prices.csv\n",
      "2019-08-10-prices.csv\n",
      "2019-08-27-prices.csv\n",
      "2019-01-12-prices.csv\n",
      "2019-09-13-prices.csv\n",
      "2019-09-24-prices.csv\n",
      "2019-10-08-prices.csv\n",
      "2020-01-11-prices.csv\n",
      "2019-03-23-prices.csv\n",
      "2019-03-14-prices.csv\n",
      "2020-01-26-prices.csv\n",
      "2019-02-20-prices.csv\n",
      "2019-02-17-prices.csv\n",
      "2019-07-08-prices.csv\n",
      "2019-04-11-prices.csv\n",
      "2019-04-26-prices.csv\n",
      "2019-12-25-prices.csv\n",
      "2019-12-12-prices.csv\n",
      "2019-05-12-prices.csv\n",
      "2019-05-25-prices.csv\n",
      "2019-06-17-prices.csv\n",
      "2019-03-08-prices.csv\n",
      "2019-06-20-prices.csv\n",
      "2019-10-23-prices.csv\n",
      "2019-10-14-prices.csv\n",
      "2019-07-14-prices.csv\n",
      "2019-07-23-prices.csv\n",
      "2019-11-20-prices.csv\n",
      "2019-11-17-prices.csv\n",
      "2020-01-23-prices.csv\n",
      "2019-03-11-prices.csv\n",
      "2019-03-26-prices.csv\n",
      "2020-01-14-prices.csv\n",
      "2019-02-12-prices.csv\n",
      "2019-02-25-prices.csv\n",
      "2019-08-22-prices.csv\n",
      "2019-04-08-prices.csv\n",
      "2019-01-17-prices.csv\n",
      "2019-01-20-prices.csv\n",
      "2019-08-15-prices.csv\n",
      "2019-09-21-prices.csv\n",
      "2019-09-16-prices.csv\n",
      "2019-10-11-prices.csv\n",
      "2019-10-26-prices.csv\n",
      "2019-06-25-prices.csv\n",
      "2020-01-08-prices.csv\n",
      "2019-06-12-prices.csv\n",
      "2019-11-12-prices.csv\n",
      "2019-11-25-prices.csv\n",
      "2019-07-26-prices.csv\n",
      "2019-07-11-prices.csv\n",
      "2019-12-17-prices.csv\n",
      "2019-12-20-prices.csv\n",
      "2019-04-23-prices.csv\n",
      "2019-08-09-prices.csv\n",
      "2019-04-14-prices.csv\n",
      "2019-05-20-prices.csv\n",
      "2019-05-17-prices.csv\n",
      "2019-05-06-prices.csv\n",
      "2019-05-31-prices.csv\n",
      "2019-04-05-prices.csv\n"
     ]
    },
    {
     "name": "stdout",
     "output_type": "stream",
     "text": [
      "2019-08-18-prices.csv\n",
      "2019-12-31-prices.csv\n",
      "2019-12-06-prices.csv\n",
      "2019-02-28-prices.csv\n",
      "2019-11-03-prices.csv\n",
      "2019-06-03-prices.csv\n",
      "2020-01-19-prices.csv\n",
      "2019-09-07-prices.csv\n",
      "2019-09-30-prices.csv\n",
      "2019-01-31-prices.csv\n",
      "2019-08-04-prices.csv\n",
      "2019-01-06-prices.csv\n",
      "2019-04-19-prices.csv\n",
      "2019-11-28-prices.csv\n",
      "2019-02-03-prices.csv\n",
      "2019-06-28-prices.csv\n",
      "2020-01-05-prices.csv\n"
     ]
    }
   ],
   "source": [
    "min_price_data = pd.DataFrame()\n",
    "mip_data_dir = 'data/processed/total'\n",
    "for filename in os.listdir(mip_data_dir):\n",
    "    if \"csv\" in filename:\n",
    "        print(filename)\n",
    "        dataset=pd.read_csv(os.path.join(mip_data_dir, filename))\n",
    "        #print(\"all \",len(dataset))\n",
    "        dataset_spec = dataset.loc[dataset.station_uuid==spec_id]\n",
    "        dataset_spec = dataset_spec.sort_values('date', ascending=True)\n",
    "        dataset_spec = dataset_spec.loc[dataset_spec.e5<=dataset_spec.e5.min()][:1]\n",
    "        #print(\"sel \",len(dataset_spec))\n",
    "        min_price_data = min_price_data.append(dataset_spec)\n",
    "\n",
    "min_price_data = min_price_data.sort_values('date', ascending=True)\n"
   ]
  },
  {
   "cell_type": "code",
   "execution_count": 59,
   "metadata": {},
   "outputs": [
    {
     "data": {
      "text/html": [
       "<div>\n",
       "<style scoped>\n",
       "    .dataframe tbody tr th:only-of-type {\n",
       "        vertical-align: middle;\n",
       "    }\n",
       "\n",
       "    .dataframe tbody tr th {\n",
       "        vertical-align: top;\n",
       "    }\n",
       "\n",
       "    .dataframe thead th {\n",
       "        text-align: right;\n",
       "    }\n",
       "</style>\n",
       "<table border=\"1\" class=\"dataframe\">\n",
       "  <thead>\n",
       "    <tr style=\"text-align: right;\">\n",
       "      <th></th>\n",
       "      <th>Unnamed: 0</th>\n",
       "      <th>date</th>\n",
       "      <th>station_uuid</th>\n",
       "      <th>diesel</th>\n",
       "      <th>e5</th>\n",
       "      <th>e10</th>\n",
       "      <th>dieselchange</th>\n",
       "      <th>e5change</th>\n",
       "      <th>e10change</th>\n",
       "      <th>station_name</th>\n",
       "      <th>station_address</th>\n",
       "      <th>station_latitude</th>\n",
       "      <th>station_longitude</th>\n",
       "    </tr>\n",
       "  </thead>\n",
       "  <tbody>\n",
       "    <tr>\n",
       "      <th>87</th>\n",
       "      <td>69249</td>\n",
       "      <td>2019-01-01 11:55:06+01</td>\n",
       "      <td>e1a15081-2617-9107-e040-0b0a3dfe563c</td>\n",
       "      <td>1.199</td>\n",
       "      <td>1.339</td>\n",
       "      <td>1.319</td>\n",
       "      <td>0</td>\n",
       "      <td>1</td>\n",
       "      <td>1</td>\n",
       "      <td>HEM</td>\n",
       "      <td>Kieler Str.</td>\n",
       "      <td>53.58875</td>\n",
       "      <td>9.930771</td>\n",
       "    </tr>\n",
       "    <tr>\n",
       "      <th>319</th>\n",
       "      <td>191124</td>\n",
       "      <td>2019-01-02 19:55:13+01</td>\n",
       "      <td>e1a15081-2617-9107-e040-0b0a3dfe563c</td>\n",
       "      <td>1.169</td>\n",
       "      <td>1.299</td>\n",
       "      <td>1.279</td>\n",
       "      <td>0</td>\n",
       "      <td>1</td>\n",
       "      <td>1</td>\n",
       "      <td>HEM</td>\n",
       "      <td>Kieler Str.</td>\n",
       "      <td>53.58875</td>\n",
       "      <td>9.930771</td>\n",
       "    </tr>\n",
       "    <tr>\n",
       "      <th>275</th>\n",
       "      <td>194239</td>\n",
       "      <td>2019-01-03 19:58:06+01</td>\n",
       "      <td>e1a15081-2617-9107-e040-0b0a3dfe563c</td>\n",
       "      <td>1.149</td>\n",
       "      <td>1.299</td>\n",
       "      <td>1.279</td>\n",
       "      <td>1</td>\n",
       "      <td>1</td>\n",
       "      <td>1</td>\n",
       "      <td>HEM</td>\n",
       "      <td>Kieler Str.</td>\n",
       "      <td>53.58875</td>\n",
       "      <td>9.930771</td>\n",
       "    </tr>\n",
       "    <tr>\n",
       "      <th>290</th>\n",
       "      <td>190572</td>\n",
       "      <td>2019-01-04 19:58:06+01</td>\n",
       "      <td>e1a15081-2617-9107-e040-0b0a3dfe563c</td>\n",
       "      <td>1.149</td>\n",
       "      <td>1.299</td>\n",
       "      <td>1.289</td>\n",
       "      <td>1</td>\n",
       "      <td>1</td>\n",
       "      <td>0</td>\n",
       "      <td>HEM</td>\n",
       "      <td>Kieler Str.</td>\n",
       "      <td>53.58875</td>\n",
       "      <td>9.930771</td>\n",
       "    </tr>\n",
       "    <tr>\n",
       "      <th>203</th>\n",
       "      <td>181234</td>\n",
       "      <td>2019-01-05 19:55:06+01</td>\n",
       "      <td>e1a15081-2617-9107-e040-0b0a3dfe563c</td>\n",
       "      <td>1.139</td>\n",
       "      <td>1.289</td>\n",
       "      <td>1.269</td>\n",
       "      <td>1</td>\n",
       "      <td>1</td>\n",
       "      <td>1</td>\n",
       "      <td>HEM</td>\n",
       "      <td>Kieler Str.</td>\n",
       "      <td>53.58875</td>\n",
       "      <td>9.930771</td>\n",
       "    </tr>\n",
       "  </tbody>\n",
       "</table>\n",
       "</div>"
      ],
      "text/plain": [
       "     Unnamed: 0                    date                          station_uuid  \\\n",
       "87        69249  2019-01-01 11:55:06+01  e1a15081-2617-9107-e040-0b0a3dfe563c   \n",
       "319      191124  2019-01-02 19:55:13+01  e1a15081-2617-9107-e040-0b0a3dfe563c   \n",
       "275      194239  2019-01-03 19:58:06+01  e1a15081-2617-9107-e040-0b0a3dfe563c   \n",
       "290      190572  2019-01-04 19:58:06+01  e1a15081-2617-9107-e040-0b0a3dfe563c   \n",
       "203      181234  2019-01-05 19:55:06+01  e1a15081-2617-9107-e040-0b0a3dfe563c   \n",
       "\n",
       "     diesel     e5    e10  dieselchange  e5change  e10change station_name  \\\n",
       "87    1.199  1.339  1.319             0         1          1          HEM   \n",
       "319   1.169  1.299  1.279             0         1          1          HEM   \n",
       "275   1.149  1.299  1.279             1         1          1          HEM   \n",
       "290   1.149  1.299  1.289             1         1          0          HEM   \n",
       "203   1.139  1.289  1.269             1         1          1          HEM   \n",
       "\n",
       "    station_address  station_latitude  station_longitude  \n",
       "87      Kieler Str.          53.58875           9.930771  \n",
       "319     Kieler Str.          53.58875           9.930771  \n",
       "275     Kieler Str.          53.58875           9.930771  \n",
       "290     Kieler Str.          53.58875           9.930771  \n",
       "203     Kieler Str.          53.58875           9.930771  "
      ]
     },
     "execution_count": 59,
     "metadata": {},
     "output_type": "execute_result"
    }
   ],
   "source": [
    "min_price_data.head()"
   ]
  },
  {
   "cell_type": "code",
   "execution_count": 61,
   "metadata": {},
   "outputs": [
    {
     "data": {
      "text/plain": [
       "400"
      ]
     },
     "execution_count": 61,
     "metadata": {},
     "output_type": "execute_result"
    }
   ],
   "source": [
    "len(min_price_data)"
   ]
  },
  {
   "cell_type": "code",
   "execution_count": 62,
   "metadata": {},
   "outputs": [],
   "source": [
    "def prep_min_price(df):\n",
    "    df = df[['date', 'e5']].copy()\n",
    "    df.loc[:,'date']=pd.to_datetime(df['date'],utc=True).dt.date\n",
    "    #df = df.set_index('date')\n",
    "    df = df.reset_index(drop=True)\n",
    "    return df"
   ]
  },
  {
   "cell_type": "code",
   "execution_count": 63,
   "metadata": {},
   "outputs": [],
   "source": [
    "min_price_ready = prep_min_price(min_price_data)"
   ]
  },
  {
   "cell_type": "code",
   "execution_count": 64,
   "metadata": {},
   "outputs": [
    {
     "data": {
      "text/plain": [
       "400"
      ]
     },
     "execution_count": 64,
     "metadata": {},
     "output_type": "execute_result"
    }
   ],
   "source": [
    "len(min_price_ready)"
   ]
  },
  {
   "cell_type": "code",
   "execution_count": 70,
   "metadata": {},
   "outputs": [
    {
     "data": {
      "text/plain": [
       "datetime.date(2020, 2, 4)"
      ]
     },
     "execution_count": 70,
     "metadata": {},
     "output_type": "execute_result"
    }
   ],
   "source": [
    "min_price_ready.date.iloc[-1]"
   ]
  },
  {
   "cell_type": "code",
   "execution_count": 109,
   "metadata": {},
   "outputs": [],
   "source": [
    "train = 0.9\n",
    "i = int(train * len(min_price_ready))\n",
    "price_train = min_price_ready[0: i]\n",
    "price_test = min_price_ready[i:]"
   ]
  },
  {
   "cell_type": "code",
   "execution_count": null,
   "metadata": {},
   "outputs": [],
   "source": [
    "ttt = min_price_ready.e5.values"
   ]
  },
  {
   "cell_type": "code",
   "execution_count": null,
   "metadata": {},
   "outputs": [],
   "source": [
    "ttt=ttt.astype('float32')"
   ]
  },
  {
   "cell_type": "code",
   "execution_count": 103,
   "metadata": {},
   "outputs": [],
   "source": [
    "# normalize the dataset\n",
    "scaler = MinMaxScaler(feature_range=(0, 1))"
   ]
  },
  {
   "cell_type": "code",
   "execution_count": 71,
   "metadata": {},
   "outputs": [],
   "source": [
    "def gen_train(price_train,seq_len):\n",
    "    input_train = []\n",
    "    output_train = []\n",
    "    for i in range(len(price_train) - seq_len):\n",
    "        x = np.array(price_train.iloc[i: i + seq_len, 1])\n",
    "        y = np.array([price_train.iloc[i + seq_len, 1]], np.float64)\n",
    "        input_train.append(x)\n",
    "        output_train.append(y)\n",
    "    X_train = np.array(input_train)\n",
    "    Y_train = np.array(output_train)\n",
    "    return X_train, Y_train"
   ]
  },
  {
   "cell_type": "code",
   "execution_count": 80,
   "metadata": {},
   "outputs": [],
   "source": [
    "xg,yg = gen_train(min_price_ready,10)"
   ]
  },
  {
   "cell_type": "code",
   "execution_count": 74,
   "metadata": {},
   "outputs": [
    {
     "data": {
      "image/png": "[encoded data removed]",
      "text/plain": [
       "<Figure size 432x288 with 1 Axes>"
      ]
     },
     "metadata": {
      "needs_background": "light"
     },
     "output_type": "display_data"
    }
   ],
   "source": [
    "plot_over_time_1(min_price_ready)#,True,'e5_variation_over19-20')"
   ]
  },
  {
   "cell_type": "code",
   "execution_count": null,
   "metadata": {},
   "outputs": [],
   "source": [
    "plt.plot(min_price_ready.e5)"
   ]
  },
  {
   "cell_type": "code",
   "execution_count": 75,
   "metadata": {},
   "outputs": [],
   "source": [
    "def create_dataset(dataset, look_back=1):\n",
    "    dataX, dataY = [], []\n",
    "    for i in range(len(dataset)-look_back-1):\n",
    "        a = dataset[i:(i+look_back)]\n",
    "        dataX.append(a)\n",
    "        dataY.append(dataset[i + look_back])\n",
    "    return np.array(dataX) , np.array(dataY)"
   ]
  },
  {
   "cell_type": "code",
   "execution_count": 79,
   "metadata": {},
   "outputs": [],
   "source": [
    "xc,yc = create_dataset(min_price_ready.e5.values,10)"
   ]
  },
  {
   "cell_type": "code",
   "execution_count": 122,
   "metadata": {},
   "outputs": [
    {
     "data": {
      "text/plain": [
       "390"
      ]
     },
     "execution_count": 122,
     "metadata": {},
     "output_type": "execute_result"
    }
   ],
   "source": [
    "x"
   ]
  },
  {
   "cell_type": "code",
   "execution_count": 123,
   "metadata": {},
   "outputs": [
    {
     "data": {
      "text/plain": [
       "10"
      ]
     },
     "execution_count": 123,
     "metadata": {},
     "output_type": "execute_result"
    }
   ],
   "source": [
    "y"
   ]
  },
  {
   "cell_type": "code",
   "execution_count": 97,
   "metadata": {},
   "outputs": [],
   "source": [
    "x,y = xg.shape"
   ]
  },
  {
   "cell_type": "code",
   "execution_count": 100,
   "metadata": {},
   "outputs": [],
   "source": [
    "xg_2 = xg.reshape((x, y, 1))"
   ]
  },
  {
   "cell_type": "code",
   "execution_count": 105,
   "metadata": {},
   "outputs": [],
   "source": [
    "xg_1 = xg.reshape((x, y))"
   ]
  },
  {
   "cell_type": "code",
   "execution_count": 102,
   "metadata": {},
   "outputs": [
    {
     "data": {
      "text/plain": [
       "array([[1.339, 1.299, 1.299, ..., 1.289, 1.289, 1.289],\n",
       "       [1.299, 1.299, 1.299, ..., 1.289, 1.289, 1.289],\n",
       "       [1.299, 1.299, 1.289, ..., 1.289, 1.289, 1.289],\n",
       "       ...,\n",
       "       [1.359, 1.349, 1.349, ..., 1.309, 1.319, 1.349],\n",
       "       [1.349, 1.349, 1.349, ..., 1.319, 1.349, 1.349],\n",
       "       [1.349, 1.349, 1.309, ..., 1.349, 1.349, 1.339]])"
      ]
     },
     "execution_count": 102,
     "metadata": {},
     "output_type": "execute_result"
    }
   ],
   "source": [
    "xg"
   ]
  },
  {
   "cell_type": "code",
   "execution_count": 106,
   "metadata": {},
   "outputs": [
    {
     "data": {
      "text/plain": [
       "array([[1.339, 1.299, 1.299, ..., 1.289, 1.289, 1.289],\n",
       "       [1.299, 1.299, 1.299, ..., 1.289, 1.289, 1.289],\n",
       "       [1.299, 1.299, 1.289, ..., 1.289, 1.289, 1.289],\n",
       "       ...,\n",
       "       [1.359, 1.349, 1.349, ..., 1.309, 1.319, 1.349],\n",
       "       [1.349, 1.349, 1.349, ..., 1.319, 1.349, 1.349],\n",
       "       [1.349, 1.349, 1.309, ..., 1.349, 1.349, 1.339]])"
      ]
     },
     "execution_count": 106,
     "metadata": {},
     "output_type": "execute_result"
    }
   ],
   "source": [
    "xg_1"
   ]
  },
  {
   "cell_type": "code",
   "execution_count": 101,
   "metadata": {},
   "outputs": [
    {
     "data": {
      "text/plain": [
       "array([[[1.339],\n",
       "        [1.299],\n",
       "        [1.299],\n",
       "        ...,\n",
       "        [1.289],\n",
       "        [1.289],\n",
       "        [1.289]],\n",
       "\n",
       "       [[1.299],\n",
       "        [1.299],\n",
       "        [1.299],\n",
       "        ...,\n",
       "        [1.289],\n",
       "        [1.289],\n",
       "        [1.289]],\n",
       "\n",
       "       [[1.299],\n",
       "        [1.299],\n",
       "        [1.289],\n",
       "        ...,\n",
       "        [1.289],\n",
       "        [1.289],\n",
       "        [1.289]],\n",
       "\n",
       "       ...,\n",
       "\n",
       "       [[1.359],\n",
       "        [1.349],\n",
       "        [1.349],\n",
       "        ...,\n",
       "        [1.309],\n",
       "        [1.319],\n",
       "        [1.349]],\n",
       "\n",
       "       [[1.349],\n",
       "        [1.349],\n",
       "        [1.349],\n",
       "        ...,\n",
       "        [1.319],\n",
       "        [1.349],\n",
       "        [1.349]],\n",
       "\n",
       "       [[1.349],\n",
       "        [1.349],\n",
       "        [1.309],\n",
       "        ...,\n",
       "        [1.349],\n",
       "        [1.349],\n",
       "        [1.339]]])"
      ]
     },
     "execution_count": 101,
     "metadata": {},
     "output_type": "execute_result"
    }
   ],
   "source": [
    "xg_2"
   ]
  },
  {
   "cell_type": "code",
   "execution_count": 107,
   "metadata": {},
   "outputs": [
    {
     "data": {
      "text/plain": [
       "array([[0.41666667, 0.25      , 0.25      , ..., 0.20833333, 0.20833333,\n",
       "        0.20833333],\n",
       "       [0.25      , 0.25      , 0.25      , ..., 0.20833333, 0.20833333,\n",
       "        0.20833333],\n",
       "       [0.25      , 0.25      , 0.20833333, ..., 0.20833333, 0.20833333,\n",
       "        0.20833333],\n",
       "       ...,\n",
       "       [0.5       , 0.45833333, 0.45833333, ..., 0.29166667, 0.33333333,\n",
       "        0.45833333],\n",
       "       [0.45833333, 0.45833333, 0.45833333, ..., 0.33333333, 0.45833333,\n",
       "        0.45833333],\n",
       "       [0.45833333, 0.45833333, 0.29166667, ..., 0.45833333, 0.45833333,\n",
       "        0.41666667]])"
      ]
     },
     "execution_count": 107,
     "metadata": {},
     "output_type": "execute_result"
    }
   ],
   "source": [
    "scaler.fit_transform(xg_1)"
   ]
  },
  {
   "cell_type": "code",
   "execution_count": 115,
   "metadata": {},
   "outputs": [],
   "source": [
    "look_back = 10\n",
    "trainX, trainY = create_dataset(price_train.e5.values, look_back)\n",
    "testX, testY = create_dataset(price_test.e5.values, look_back)"
   ]
  },
  {
   "cell_type": "code",
   "execution_count": 116,
   "metadata": {},
   "outputs": [],
   "source": [
    "#trainX = scaler.fit_transform(trainX)\n",
    "#trainY = scaler.fit_transform(trainY)\n",
    "#testX = scaler.fit_transform(testX)\n",
    "#testY = scaler.fit_transform(testY)\n",
    "\n"
   ]
  },
  {
   "cell_type": "code",
   "execution_count": 117,
   "metadata": {},
   "outputs": [
    {
     "data": {
      "text/plain": [
       "array([[1.339, 1.299, 1.299, ..., 1.289, 1.289, 1.289],\n",
       "       [1.299, 1.299, 1.299, ..., 1.289, 1.289, 1.289],\n",
       "       [1.299, 1.299, 1.289, ..., 1.289, 1.289, 1.289],\n",
       "       ...,\n",
       "       [1.349, 1.349, 1.349, ..., 1.359, 1.359, 1.359],\n",
       "       [1.349, 1.349, 1.359, ..., 1.359, 1.359, 1.369],\n",
       "       [1.349, 1.359, 1.359, ..., 1.359, 1.369, 1.369]])"
      ]
     },
     "execution_count": 117,
     "metadata": {},
     "output_type": "execute_result"
    }
   ],
   "source": [
    "trainX"
   ]
  },
  {
   "cell_type": "code",
   "execution_count": 127,
   "metadata": {},
   "outputs": [
    {
     "data": {
      "text/plain": [
       "array([1.289, 1.289, 1.289, 1.289, 1.299, 1.239, 1.289, 1.299, 1.279,\n",
       "       1.279, 1.279, 1.259, 1.289, 1.299, 1.319, 1.289, 1.279, 1.289,\n",
       "       1.239, 1.289, 1.309, 1.309, 1.289, 1.299, 1.289, 1.299, 1.289,\n",
       "       1.289, 1.289, 1.299, 1.299, 1.279, 1.289, 1.299, 1.299, 1.299,\n",
       "       1.319, 1.309, 1.319, 1.319, 1.299, 1.299, 1.299, 1.299, 1.299,\n",
       "       1.299, 1.309, 1.289, 1.289, 1.309, 1.309, 1.319, 1.289, 1.299,\n",
       "       1.289, 1.299, 1.309, 1.299, 1.309, 1.299, 1.319, 1.309, 1.319,\n",
       "       1.329, 1.329, 1.329, 1.319, 1.319, 1.319, 1.319, 1.299, 1.299,\n",
       "       1.329, 1.339, 1.359, 1.369, 1.359, 1.349, 1.349, 1.349, 1.359,\n",
       "       1.369, 1.379, 1.389, 1.379, 1.399, 1.379, 1.389, 1.389, 1.399,\n",
       "       1.409, 1.409, 1.419, 1.419, 1.409, 1.409, 1.409, 1.409, 1.409,\n",
       "       1.409, 1.439, 1.429, 1.419, 1.409, 1.419, 1.419, 1.429, 1.439,\n",
       "       1.429, 1.409, 1.419, 1.439, 1.459, 1.459, 1.439, 1.469, 1.449,\n",
       "       1.439, 1.439, 1.469, 1.449, 1.459, 1.439, 1.459, 1.469, 1.449,\n",
       "       1.449, 1.469, 1.459, 1.479, 1.469, 1.469, 1.469, 1.479, 1.469,\n",
       "       1.479, 1.469, 1.479, 1.469, 1.469, 1.469, 1.469, 1.469, 1.479,\n",
       "       1.469, 1.469, 1.449, 1.409, 1.419, 1.439, 1.419, 1.439, 1.439,\n",
       "       1.419, 1.409, 1.399, 1.399, 1.409, 1.419, 1.399, 1.409, 1.399,\n",
       "       1.399, 1.379, 1.389, 1.419, 1.409, 1.409, 1.399, 1.409, 1.399,\n",
       "       1.399, 1.419, 1.419, 1.399, 1.389, 1.389, 1.389, 1.389, 1.389,\n",
       "       1.379, 1.379, 1.399, 1.399, 1.399, 1.399, 1.399, 1.389, 1.379,\n",
       "       1.369, 1.389, 1.389, 1.379, 1.379, 1.379, 1.379, 1.389, 1.379,\n",
       "       1.379, 1.369, 1.379, 1.389, 1.389, 1.389, 1.399, 1.399, 1.379,\n",
       "       1.369, 1.369, 1.349, 1.359, 1.359, 1.359, 1.359, 1.349, 1.359,\n",
       "       1.349, 1.369, 1.369, 1.369, 1.369, 1.369, 1.349, 1.329, 1.359,\n",
       "       1.349, 1.349, 1.339, 1.339, 1.349, 1.349, 1.339, 1.349, 1.349,\n",
       "       1.349, 1.349, 1.349, 1.339, 1.349, 1.339, 1.339, 1.339, 1.339,\n",
       "       1.339, 1.349, 1.339, 1.349, 1.339, 1.359, 1.379, 1.379, 1.369,\n",
       "       1.369, 1.369, 1.369, 1.359, 1.359, 1.349, 1.349, 1.349, 1.349,\n",
       "       1.349, 1.359, 1.349, 1.349, 1.349, 1.349, 1.349, 1.349, 1.349,\n",
       "       1.349, 1.339, 1.339, 1.339, 1.329, 1.329, 1.339, 1.339, 1.339,\n",
       "       1.339, 1.329, 1.319, 1.319, 1.319, 1.339, 1.329, 1.319, 1.319,\n",
       "       1.339, 1.329, 1.329, 1.339, 1.339, 1.329, 1.329, 1.359, 1.369,\n",
       "       1.349, 1.349, 1.359, 1.349, 1.349, 1.349, 1.349, 1.339, 1.329,\n",
       "       1.339, 1.329, 1.339, 1.339, 1.339, 1.339, 1.339, 1.349, 1.329,\n",
       "       1.349, 1.339, 1.339, 1.359, 1.349, 1.349, 1.339, 1.349, 1.359,\n",
       "       1.359, 1.359, 1.359, 1.359, 1.349, 1.349, 1.339, 1.339, 1.359,\n",
       "       1.339, 1.339, 1.349, 1.349, 1.349, 1.349, 1.359, 1.359, 1.349,\n",
       "       1.349, 1.359, 1.359, 1.359, 1.369, 1.369, 1.359])"
      ]
     },
     "execution_count": 127,
     "metadata": {},
     "output_type": "execute_result"
    }
   ],
   "source": [
    "trainY"
   ]
  },
  {
   "cell_type": "code",
   "execution_count": 124,
   "metadata": {},
   "outputs": [
    {
     "data": {
      "text/plain": [
       "349"
      ]
     },
     "execution_count": 124,
     "metadata": {},
     "output_type": "execute_result"
    }
   ],
   "source": [
    "trainX.shape[0]"
   ]
  },
  {
   "cell_type": "code",
   "execution_count": 118,
   "metadata": {},
   "outputs": [],
   "source": [
    "# reshape input to be [samples, time steps, features]\n",
    "trainX1 = np.reshape(trainX, (trainX.shape[0], 1, trainX.shape[1]))\n",
    "testX1 = np.reshape(testX, (testX.shape[0], 1, testX.shape[1]))"
   ]
  },
  {
   "cell_type": "code",
   "execution_count": 132,
   "metadata": {},
   "outputs": [
    {
     "data": {
      "text/plain": [
       "array([[1.339, 1.299, 1.299, 1.299, 1.289, 1.289, 1.289, 1.289, 1.289,\n",
       "        1.289]])"
      ]
     },
     "execution_count": 132,
     "metadata": {},
     "output_type": "execute_result"
    }
   ],
   "source": [
    "trainX1[0]"
   ]
  },
  {
   "cell_type": "code",
   "execution_count": 128,
   "metadata": {},
   "outputs": [
    {
     "name": "stderr",
     "output_type": "stream",
     "text": [
      "Using TensorFlow backend.\n"
     ]
    }
   ],
   "source": [
    "from keras.models import Sequential\n",
    "from keras.layers import Dense\n",
    "from keras.layers import LSTM"
   ]
  },
  {
   "cell_type": "markdown",
   "metadata": {},
   "source": [
    "Error when checking input: expected lstm_1_input to have 3 dimensions, but got array with shape (349, 10)"
   ]
  },
  {
   "cell_type": "code",
   "execution_count": 131,
   "metadata": {},
   "outputs": [
    {
     "name": "stdout",
     "output_type": "stream",
     "text": [
      "Epoch 1/100\n",
      " - 2s - loss: 0.5139\n",
      "Epoch 2/100\n",
      " - 1s - loss: 0.0015\n",
      "Epoch 3/100\n",
      " - 1s - loss: 9.4526e-04\n",
      "Epoch 4/100\n",
      " - 1s - loss: 6.6916e-04\n",
      "Epoch 5/100\n",
      " - 1s - loss: 5.9357e-04\n",
      "Epoch 6/100\n",
      " - 1s - loss: 5.8804e-04\n",
      "Epoch 7/100\n",
      " - 1s - loss: 5.4346e-04\n",
      "Epoch 8/100\n",
      " - 1s - loss: 5.5300e-04\n",
      "Epoch 9/100\n",
      " - 1s - loss: 5.2869e-04\n",
      "Epoch 10/100\n",
      " - 1s - loss: 5.3405e-04\n",
      "Epoch 11/100\n",
      " - 1s - loss: 5.1093e-04\n",
      "Epoch 12/100\n",
      " - 1s - loss: 4.7433e-04\n",
      "Epoch 13/100\n",
      " - 1s - loss: 4.5374e-04\n",
      "Epoch 14/100\n",
      " - 1s - loss: 4.1572e-04\n",
      "Epoch 15/100\n",
      " - 1s - loss: 3.8601e-04\n",
      "Epoch 16/100\n",
      " - 1s - loss: 3.6332e-04\n",
      "Epoch 17/100\n",
      " - 1s - loss: 3.5695e-04\n",
      "Epoch 18/100\n",
      " - 1s - loss: 3.2292e-04\n",
      "Epoch 19/100\n",
      " - 1s - loss: 3.5201e-04\n",
      "Epoch 20/100\n",
      " - 1s - loss: 3.5567e-04\n",
      "Epoch 21/100\n",
      " - 1s - loss: 3.0552e-04\n",
      "Epoch 22/100\n",
      " - 1s - loss: 2.9521e-04\n",
      "Epoch 23/100\n",
      " - 1s - loss: 2.7620e-04\n",
      "Epoch 24/100\n",
      " - 1s - loss: 3.0061e-04\n",
      "Epoch 25/100\n",
      " - 1s - loss: 2.9861e-04\n",
      "Epoch 26/100\n",
      " - 1s - loss: 2.9732e-04\n",
      "Epoch 27/100\n",
      " - 1s - loss: 2.5266e-04\n",
      "Epoch 28/100\n",
      " - 1s - loss: 3.0408e-04\n",
      "Epoch 29/100\n",
      " - 1s - loss: 2.6537e-04\n",
      "Epoch 30/100\n",
      " - 1s - loss: 2.7380e-04\n",
      "Epoch 31/100\n",
      " - 1s - loss: 2.8058e-04\n",
      "Epoch 32/100\n",
      " - 1s - loss: 2.9879e-04\n",
      "Epoch 33/100\n",
      " - 1s - loss: 2.6334e-04\n",
      "Epoch 34/100\n",
      " - 1s - loss: 2.6369e-04\n",
      "Epoch 35/100\n",
      " - 1s - loss: 2.7684e-04\n",
      "Epoch 36/100\n",
      " - 1s - loss: 2.9784e-04\n",
      "Epoch 37/100\n",
      " - 1s - loss: 2.7267e-04\n",
      "Epoch 38/100\n",
      " - 1s - loss: 2.6418e-04\n",
      "Epoch 39/100\n",
      " - 1s - loss: 3.2690e-04\n",
      "Epoch 40/100\n",
      " - 1s - loss: 2.6789e-04\n",
      "Epoch 41/100\n",
      " - 1s - loss: 2.3912e-04\n",
      "Epoch 42/100\n",
      " - 1s - loss: 2.6627e-04\n",
      "Epoch 43/100\n",
      " - 1s - loss: 2.3816e-04\n",
      "Epoch 44/100\n",
      " - 1s - loss: 2.9279e-04\n",
      "Epoch 45/100\n",
      " - 1s - loss: 2.8686e-04\n",
      "Epoch 46/100\n",
      " - 1s - loss: 2.8621e-04\n",
      "Epoch 47/100\n",
      " - 1s - loss: 2.3593e-04\n",
      "Epoch 48/100\n",
      " - 1s - loss: 2.5566e-04\n",
      "Epoch 49/100\n",
      " - 1s - loss: 2.7221e-04\n",
      "Epoch 50/100\n",
      " - 1s - loss: 2.6705e-04\n",
      "Epoch 51/100\n",
      " - 1s - loss: 2.9227e-04\n",
      "Epoch 52/100\n",
      " - 1s - loss: 2.7817e-04\n",
      "Epoch 53/100\n",
      " - 1s - loss: 2.8479e-04\n",
      "Epoch 54/100\n",
      " - 1s - loss: 2.8797e-04\n",
      "Epoch 55/100\n",
      " - 1s - loss: 2.7447e-04\n",
      "Epoch 56/100\n",
      " - 1s - loss: 2.4456e-04\n",
      "Epoch 57/100\n",
      " - 1s - loss: 2.5963e-04\n",
      "Epoch 58/100\n",
      " - 1s - loss: 2.7947e-04\n",
      "Epoch 59/100\n",
      " - 1s - loss: 2.6812e-04\n",
      "Epoch 60/100\n",
      " - 1s - loss: 2.6518e-04\n",
      "Epoch 61/100\n",
      " - 1s - loss: 2.5391e-04\n",
      "Epoch 62/100\n",
      " - 1s - loss: 2.7784e-04\n",
      "Epoch 63/100\n",
      " - 1s - loss: 2.4390e-04\n",
      "Epoch 64/100\n",
      " - 1s - loss: 2.9862e-04\n",
      "Epoch 65/100\n",
      " - 1s - loss: 3.5127e-04\n",
      "Epoch 66/100\n",
      " - 1s - loss: 2.5257e-04\n",
      "Epoch 67/100\n",
      " - 1s - loss: 2.4698e-04\n",
      "Epoch 68/100\n",
      " - 1s - loss: 2.5853e-04\n",
      "Epoch 69/100\n",
      " - 1s - loss: 2.4870e-04\n",
      "Epoch 70/100\n",
      " - 1s - loss: 2.6327e-04\n",
      "Epoch 71/100\n",
      " - 1s - loss: 2.4461e-04\n",
      "Epoch 72/100\n",
      " - 1s - loss: 2.7673e-04\n",
      "Epoch 73/100\n",
      " - 1s - loss: 2.4978e-04\n",
      "Epoch 74/100\n",
      " - 1s - loss: 2.3862e-04\n",
      "Epoch 75/100\n",
      " - 1s - loss: 2.8157e-04\n",
      "Epoch 76/100\n",
      " - 1s - loss: 2.9096e-04\n",
      "Epoch 77/100\n",
      " - 1s - loss: 2.5951e-04\n",
      "Epoch 78/100\n",
      " - 1s - loss: 2.3525e-04\n",
      "Epoch 79/100\n",
      " - 1s - loss: 2.5012e-04\n",
      "Epoch 80/100\n",
      " - 1s - loss: 2.4393e-04\n",
      "Epoch 81/100\n",
      " - 1s - loss: 2.9077e-04\n",
      "Epoch 82/100\n",
      " - 1s - loss: 2.5835e-04\n",
      "Epoch 83/100\n",
      " - 1s - loss: 2.6115e-04\n",
      "Epoch 84/100\n",
      " - 1s - loss: 2.4504e-04\n",
      "Epoch 85/100\n",
      " - 1s - loss: 2.2442e-04\n",
      "Epoch 86/100\n",
      " - 1s - loss: 2.4187e-04\n",
      "Epoch 87/100\n",
      " - 1s - loss: 2.4723e-04\n",
      "Epoch 88/100\n",
      " - 1s - loss: 2.2173e-04\n",
      "Epoch 89/100\n",
      " - 1s - loss: 2.9246e-04\n",
      "Epoch 90/100\n",
      " - 1s - loss: 2.6358e-04\n",
      "Epoch 91/100\n",
      " - 1s - loss: 2.3221e-04\n",
      "Epoch 92/100\n",
      " - 1s - loss: 2.6351e-04\n",
      "Epoch 93/100\n",
      " - 1s - loss: 2.5985e-04\n",
      "Epoch 94/100\n",
      " - 1s - loss: 2.2976e-04\n",
      "Epoch 95/100\n",
      " - 1s - loss: 2.1928e-04\n",
      "Epoch 96/100\n",
      " - 1s - loss: 2.4623e-04\n",
      "Epoch 97/100\n",
      " - 1s - loss: 2.5284e-04\n",
      "Epoch 98/100\n",
      " - 1s - loss: 2.3639e-04\n",
      "Epoch 99/100\n",
      " - 1s - loss: 2.5652e-04\n",
      "Epoch 100/100\n",
      " - 1s - loss: 2.4016e-04\n"
     ]
    },
    {
     "data": {
      "text/plain": [
       "<keras.callbacks.History at 0x125193f28>"
      ]
     },
     "execution_count": 131,
     "metadata": {},
     "output_type": "execute_result"
    }
   ],
   "source": [
    "model = Sequential()\n",
    "model.add(LSTM(4, input_shape=(1, look_back)))\n",
    "model.add(Dense(1))\n",
    "model.compile(loss='mean_squared_error', optimizer='adam')\n",
    "model.fit(trainX1, trainY, epochs=100, batch_size=1, verbose=2)"
   ]
  },
  {
   "cell_type": "code",
   "execution_count": 134,
   "metadata": {},
   "outputs": [],
   "source": [
    "# make predictions\n",
    "trainPredict = model.predict(trainX1)\n",
    "testPredict = model.predict(testX1)"
   ]
  },
  {
   "cell_type": "code",
   "execution_count": 135,
   "metadata": {},
   "outputs": [],
   "source": [
    "trainX0, trainY0 = create_dataset(price_train.e5.values, look_back)\n",
    "testX0, testY0 = create_dataset(price_test.e5.values, look_back)"
   ]
  },
  {
   "cell_type": "code",
   "execution_count": 136,
   "metadata": {},
   "outputs": [
    {
     "data": {
      "text/plain": [
       "<matplotlib.legend.Legend at 0x125d14278>"
      ]
     },
     "execution_count": 136,
     "metadata": {},
     "output_type": "execute_result"
    },
    {
     "data": {
      "image/png": "[encoded data removed]",
      "text/plain": [
       "<Figure size 432x288 with 1 Axes>"
      ]
     },
     "metadata": {
      "needs_background": "light"
     },
     "output_type": "display_data"
    }
   ],
   "source": [
    "plt.plot(trainY0,label='Train Data')\n",
    "plt.plot(trainPredict,label='Train Prediction')\n",
    "plt.legend()\n",
    "#plt.savefig(\"Plots/LSTM_training_2019.png\", transparent=True)"
   ]
  },
  {
   "cell_type": "code",
   "execution_count": null,
   "metadata": {},
   "outputs": [],
   "source": [
    "plt.plot(testY0,label='Test Data')\n",
    "plt.plot(testPredict,label='Test Prediction')\n",
    "plt.legend()\n",
    "#plt.savefig(\"Plots/LSTM_test_2019.png\", transparent=True)"
   ]
  },
  {
   "cell_type": "code",
   "execution_count": 141,
   "metadata": {},
   "outputs": [
    {
     "name": "stdout",
     "output_type": "stream",
     "text": [
      "0.042439959361217916\n"
     ]
    }
   ],
   "source": [
    "score = model.evaluate(testX1, testY,verbose=0)\n",
    "print(score*100)"
   ]
  },
  {
   "cell_type": "code",
   "execution_count": 148,
   "metadata": {},
   "outputs": [
    {
     "name": "stdout",
     "output_type": "stream",
     "text": [
      "Train Score: 0.00 MSE (0.01 RMSE)\n",
      "Test Score: 0.00 MSE (0.02 RMSE)\n"
     ]
    }
   ],
   "source": [
    "trainScore = model.evaluate(trainX1, trainY0, verbose=0)\n",
    "print('Train Score: %.2f MSE (%.2f RMSE)' % (trainScore, math.sqrt(trainScore)))\n",
    "testScore = model.evaluate(testX1, testY0, verbose=0)\n",
    "print('Test Score: %.2f MSE (%.2f RMSE)' % (testScore, math.sqrt(testScore)))"
   ]
  },
  {
   "cell_type": "code",
   "execution_count": 149,
   "metadata": {},
   "outputs": [
    {
     "name": "stdout",
     "output_type": "stream",
     "text": [
      "_________________________________________________________________\n",
      "Layer (type)                 Output Shape              Param #   \n",
      "=================================================================\n",
      "lstm_3 (LSTM)                (None, 4)                 240       \n",
      "_________________________________________________________________\n",
      "dense_3 (Dense)              (None, 1)                 5         \n",
      "=================================================================\n",
      "Total params: 245\n",
      "Trainable params: 245\n",
      "Non-trainable params: 0\n",
      "_________________________________________________________________\n"
     ]
    }
   ],
   "source": [
    "model.summary()"
   ]
  },
  {
   "cell_type": "code",
   "execution_count": 153,
   "metadata": {},
   "outputs": [],
   "source": [
    "from calendar import monthrange\n",
    "month=\"01\"\n",
    "year=\"2020\"\n",
    "weekday, lastday = monthrange(int(year),int(month))"
   ]
  },
  {
   "cell_type": "code",
   "execution_count": 154,
   "metadata": {},
   "outputs": [
    {
     "data": {
      "text/plain": [
       "31"
      ]
     },
     "execution_count": 154,
     "metadata": {},
     "output_type": "execute_result"
    }
   ],
   "source": [
    "lastday"
   ]
  },
  {
   "cell_type": "code",
   "execution_count": null,
   "metadata": {},
   "outputs": [],
   "source": []
  }
 ],
 "metadata": {
  "kernelspec": {
   "display_name": "Python 3",
   "language": "python",
   "name": "python3"
  },
  "language_info": {
   "codemirror_mode": {
    "name": "ipython",
    "version": 3
   },
   "file_extension": ".py",
   "mimetype": "text/x-python",
   "name": "python",
   "nbconvert_exporter": "python",
   "pygments_lexer": "ipython3",
   "version": "3.6.7"
  }
 },
 "nbformat": 4,
 "nbformat_minor": 2
}
