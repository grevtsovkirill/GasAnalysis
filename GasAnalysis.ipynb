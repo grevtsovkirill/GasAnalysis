{
 "cells": [
  {
   "cell_type": "code",
   "execution_count": 1,
   "metadata": {},
   "outputs": [],
   "source": [
    "import pandas as pd\n",
    "import numpy as np\n",
    "import matplotlib.pyplot as plt"
   ]
  },
  {
   "cell_type": "markdown",
   "metadata": {},
   "source": [
    "read data "
   ]
  },
  {
   "cell_type": "code",
   "execution_count": 2,
   "metadata": {},
   "outputs": [],
   "source": [
    "prices=pd.read_csv(\"data/raw/2020/01/2020-01-01-prices.csv\")\n",
    "stations=pd.read_csv(\"data/stations.csv\")"
   ]
  },
  {
   "cell_type": "code",
   "execution_count": 3,
   "metadata": {},
   "outputs": [
    {
     "data": {
      "text/html": [
       "<div>\n",
       "<style scoped>\n",
       "    .dataframe tbody tr th:only-of-type {\n",
       "        vertical-align: middle;\n",
       "    }\n",
       "\n",
       "    .dataframe tbody tr th {\n",
       "        vertical-align: top;\n",
       "    }\n",
       "\n",
       "    .dataframe thead th {\n",
       "        text-align: right;\n",
       "    }\n",
       "</style>\n",
       "<table border=\"1\" class=\"dataframe\">\n",
       "  <thead>\n",
       "    <tr style=\"text-align: right;\">\n",
       "      <th></th>\n",
       "      <th>date</th>\n",
       "      <th>station_uuid</th>\n",
       "      <th>diesel</th>\n",
       "      <th>e5</th>\n",
       "      <th>e10</th>\n",
       "      <th>dieselchange</th>\n",
       "      <th>e5change</th>\n",
       "      <th>e10change</th>\n",
       "    </tr>\n",
       "  </thead>\n",
       "  <tbody>\n",
       "    <tr>\n",
       "      <th>0</th>\n",
       "      <td>2020-01-01 00:00:04+01</td>\n",
       "      <td>81d72fa3-5270-45af-816f-ba0abb7776f4</td>\n",
       "      <td>1.319</td>\n",
       "      <td>1.469</td>\n",
       "      <td>1.449</td>\n",
       "      <td>1</td>\n",
       "      <td>0</td>\n",
       "      <td>0</td>\n",
       "    </tr>\n",
       "    <tr>\n",
       "      <th>1</th>\n",
       "      <td>2020-01-01 00:01:04+01</td>\n",
       "      <td>ec70685a-1110-4632-8735-8d2cebd07da6</td>\n",
       "      <td>1.269</td>\n",
       "      <td>1.389</td>\n",
       "      <td>1.369</td>\n",
       "      <td>1</td>\n",
       "      <td>1</td>\n",
       "      <td>1</td>\n",
       "    </tr>\n",
       "    <tr>\n",
       "      <th>2</th>\n",
       "      <td>2020-01-01 00:01:04+01</td>\n",
       "      <td>4de95bf1-c91c-4bf9-a0f3-9c1069dfc277</td>\n",
       "      <td>1.289</td>\n",
       "      <td>1.419</td>\n",
       "      <td>1.399</td>\n",
       "      <td>1</td>\n",
       "      <td>1</td>\n",
       "      <td>1</td>\n",
       "    </tr>\n",
       "    <tr>\n",
       "      <th>3</th>\n",
       "      <td>2020-01-01 00:01:04+01</td>\n",
       "      <td>9bb515a4-c551-41b8-a8a1-e120f29474fd</td>\n",
       "      <td>1.229</td>\n",
       "      <td>1.359</td>\n",
       "      <td>0.000</td>\n",
       "      <td>1</td>\n",
       "      <td>1</td>\n",
       "      <td>0</td>\n",
       "    </tr>\n",
       "    <tr>\n",
       "      <th>4</th>\n",
       "      <td>2020-01-01 00:01:04+01</td>\n",
       "      <td>3e385667-56a9-46b4-96de-2adcfd7b5655</td>\n",
       "      <td>1.319</td>\n",
       "      <td>1.439</td>\n",
       "      <td>1.419</td>\n",
       "      <td>1</td>\n",
       "      <td>1</td>\n",
       "      <td>1</td>\n",
       "    </tr>\n",
       "  </tbody>\n",
       "</table>\n",
       "</div>"
      ],
      "text/plain": [
       "                     date                          station_uuid  diesel  \\\n",
       "0  2020-01-01 00:00:04+01  81d72fa3-5270-45af-816f-ba0abb7776f4   1.319   \n",
       "1  2020-01-01 00:01:04+01  ec70685a-1110-4632-8735-8d2cebd07da6   1.269   \n",
       "2  2020-01-01 00:01:04+01  4de95bf1-c91c-4bf9-a0f3-9c1069dfc277   1.289   \n",
       "3  2020-01-01 00:01:04+01  9bb515a4-c551-41b8-a8a1-e120f29474fd   1.229   \n",
       "4  2020-01-01 00:01:04+01  3e385667-56a9-46b4-96de-2adcfd7b5655   1.319   \n",
       "\n",
       "      e5    e10  dieselchange  e5change  e10change  \n",
       "0  1.469  1.449             1         0          0  \n",
       "1  1.389  1.369             1         1          1  \n",
       "2  1.419  1.399             1         1          1  \n",
       "3  1.359  0.000             1         1          0  \n",
       "4  1.439  1.419             1         1          1  "
      ]
     },
     "execution_count": 3,
     "metadata": {},
     "output_type": "execute_result"
    }
   ],
   "source": [
    "prices.head()"
   ]
  },
  {
   "cell_type": "code",
   "execution_count": 4,
   "metadata": {},
   "outputs": [
    {
     "data": {
      "text/plain": [
       "207898"
      ]
     },
     "execution_count": 4,
     "metadata": {},
     "output_type": "execute_result"
    }
   ],
   "source": [
    "len(prices)"
   ]
  },
  {
   "cell_type": "code",
   "execution_count": 5,
   "metadata": {},
   "outputs": [
    {
     "data": {
      "text/html": [
       "<div>\n",
       "<style scoped>\n",
       "    .dataframe tbody tr th:only-of-type {\n",
       "        vertical-align: middle;\n",
       "    }\n",
       "\n",
       "    .dataframe tbody tr th {\n",
       "        vertical-align: top;\n",
       "    }\n",
       "\n",
       "    .dataframe thead th {\n",
       "        text-align: right;\n",
       "    }\n",
       "</style>\n",
       "<table border=\"1\" class=\"dataframe\">\n",
       "  <thead>\n",
       "    <tr style=\"text-align: right;\">\n",
       "      <th></th>\n",
       "      <th>uuid</th>\n",
       "      <th>name</th>\n",
       "      <th>brand</th>\n",
       "      <th>street</th>\n",
       "      <th>house_number</th>\n",
       "      <th>post_code</th>\n",
       "      <th>city</th>\n",
       "      <th>latitude</th>\n",
       "      <th>longitude</th>\n",
       "    </tr>\n",
       "  </thead>\n",
       "  <tbody>\n",
       "    <tr>\n",
       "      <th>0</th>\n",
       "      <td>00060723-0001-4444-8888-acdc00000001</td>\n",
       "      <td>BAGeno Raiffeisen eG</td>\n",
       "      <td>NaN</td>\n",
       "      <td>Künzelsauer Strasse</td>\n",
       "      <td>7</td>\n",
       "      <td>74653</td>\n",
       "      <td>Ingelfingen</td>\n",
       "      <td>49.296822</td>\n",
       "      <td>9.661385</td>\n",
       "    </tr>\n",
       "    <tr>\n",
       "      <th>1</th>\n",
       "      <td>005056ba-7cb6-1ed2-bceb-5332ab168d12</td>\n",
       "      <td>famila Tankstelle</td>\n",
       "      <td>FAMILA</td>\n",
       "      <td>Pascalstrasse</td>\n",
       "      <td>9</td>\n",
       "      <td>25442</td>\n",
       "      <td>Quickborn</td>\n",
       "      <td>53.742150</td>\n",
       "      <td>9.941240</td>\n",
       "    </tr>\n",
       "    <tr>\n",
       "      <th>2</th>\n",
       "      <td>005056ba-7cb6-1ed2-bceb-573c18314d16</td>\n",
       "      <td>star Tankstelle</td>\n",
       "      <td>STAR</td>\n",
       "      <td>Riehler Strasse</td>\n",
       "      <td>240</td>\n",
       "      <td>50735</td>\n",
       "      <td>Köln</td>\n",
       "      <td>50.961800</td>\n",
       "      <td>6.980070</td>\n",
       "    </tr>\n",
       "    <tr>\n",
       "      <th>3</th>\n",
       "      <td>005056ba-7cb6-1ed2-bceb-662ba1a94d1f</td>\n",
       "      <td>star Tankstelle</td>\n",
       "      <td>STAR</td>\n",
       "      <td>BAB 10 / Seeberg Ost</td>\n",
       "      <td>NaN</td>\n",
       "      <td>15345</td>\n",
       "      <td>Altlandsberg</td>\n",
       "      <td>52.550160</td>\n",
       "      <td>13.682120</td>\n",
       "    </tr>\n",
       "    <tr>\n",
       "      <th>4</th>\n",
       "      <td>005056ba-7cb6-1ed2-bceb-6f7b23564d23</td>\n",
       "      <td>star Tankstelle</td>\n",
       "      <td>STAR</td>\n",
       "      <td>Duisburger Straße</td>\n",
       "      <td>130</td>\n",
       "      <td>47166</td>\n",
       "      <td>Duisburg</td>\n",
       "      <td>51.489790</td>\n",
       "      <td>6.783730</td>\n",
       "    </tr>\n",
       "  </tbody>\n",
       "</table>\n",
       "</div>"
      ],
      "text/plain": [
       "                                   uuid                  name   brand  \\\n",
       "0  00060723-0001-4444-8888-acdc00000001  BAGeno Raiffeisen eG     NaN   \n",
       "1  005056ba-7cb6-1ed2-bceb-5332ab168d12     famila Tankstelle  FAMILA   \n",
       "2  005056ba-7cb6-1ed2-bceb-573c18314d16       star Tankstelle    STAR   \n",
       "3  005056ba-7cb6-1ed2-bceb-662ba1a94d1f       star Tankstelle    STAR   \n",
       "4  005056ba-7cb6-1ed2-bceb-6f7b23564d23       star Tankstelle    STAR   \n",
       "\n",
       "                 street house_number post_code          city   latitude  \\\n",
       "0   Künzelsauer Strasse            7     74653  Ingelfingen   49.296822   \n",
       "1         Pascalstrasse            9     25442     Quickborn  53.742150   \n",
       "2       Riehler Strasse          240     50735          Köln  50.961800   \n",
       "3  BAB 10 / Seeberg Ost          NaN     15345  Altlandsberg  52.550160   \n",
       "4     Duisburger Straße          130     47166      Duisburg  51.489790   \n",
       "\n",
       "   longitude  \n",
       "0   9.661385  \n",
       "1   9.941240  \n",
       "2   6.980070  \n",
       "3  13.682120  \n",
       "4   6.783730  "
      ]
     },
     "execution_count": 5,
     "metadata": {},
     "output_type": "execute_result"
    }
   ],
   "source": [
    "stations.head()"
   ]
  },
  {
   "cell_type": "code",
   "execution_count": 6,
   "metadata": {},
   "outputs": [
    {
     "data": {
      "text/plain": [
       "222"
      ]
     },
     "execution_count": 6,
     "metadata": {},
     "output_type": "execute_result"
    }
   ],
   "source": [
    "len(stations.loc[(stations.city==\"Hamburg\")|(stations.city==\"HAMBURG\")])"
   ]
  },
  {
   "cell_type": "markdown",
   "metadata": {},
   "source": [
    "set range for lattitude"
   ]
  },
  {
   "cell_type": "code",
   "execution_count": 7,
   "metadata": {},
   "outputs": [],
   "source": [
    "minlat=53.567181\n",
    "maxlat=53.648408"
   ]
  },
  {
   "cell_type": "code",
   "execution_count": 8,
   "metadata": {},
   "outputs": [],
   "source": [
    "minlon=9.876232\n",
    "maxlon=9.941601"
   ]
  },
  {
   "cell_type": "code",
   "execution_count": 9,
   "metadata": {},
   "outputs": [],
   "source": [
    "#(stations.city==\"Hamburg\")& - 26 \n",
    "# wo 51 \n",
    "stations_on_route=stations.loc[\n",
    "             (stations.latitude>minlat)&(stations.latitude<maxlat)&\n",
    "            (stations.longitude>minlon)&(stations.longitude<maxlon)]\n",
    "   "
   ]
  },
  {
   "cell_type": "code",
   "execution_count": 89,
   "metadata": {},
   "outputs": [
    {
     "data": {
      "text/html": [
       "<div>\n",
       "<style scoped>\n",
       "    .dataframe tbody tr th:only-of-type {\n",
       "        vertical-align: middle;\n",
       "    }\n",
       "\n",
       "    .dataframe tbody tr th {\n",
       "        vertical-align: top;\n",
       "    }\n",
       "\n",
       "    .dataframe thead th {\n",
       "        text-align: right;\n",
       "    }\n",
       "</style>\n",
       "<table border=\"1\" class=\"dataframe\">\n",
       "  <thead>\n",
       "    <tr style=\"text-align: right;\">\n",
       "      <th></th>\n",
       "      <th>uuid</th>\n",
       "      <th>name</th>\n",
       "      <th>brand</th>\n",
       "      <th>street</th>\n",
       "      <th>house_number</th>\n",
       "      <th>post_code</th>\n",
       "      <th>city</th>\n",
       "      <th>latitude</th>\n",
       "      <th>longitude</th>\n",
       "    </tr>\n",
       "  </thead>\n",
       "  <tbody>\n",
       "    <tr>\n",
       "      <th>621</th>\n",
       "      <td>005056ba-7cb6-1ed2-bceb-6e6ee17d4d20</td>\n",
       "      <td>star Tankstelle</td>\n",
       "      <td>STAR</td>\n",
       "      <td>Kieler Straße</td>\n",
       "      <td>206</td>\n",
       "      <td>22525</td>\n",
       "      <td>Hamburg</td>\n",
       "      <td>53.577040</td>\n",
       "      <td>9.937720</td>\n",
       "    </tr>\n",
       "    <tr>\n",
       "      <th>771</th>\n",
       "      <td>005056ba-7cb6-1ed2-bceb-971fa39ded38</td>\n",
       "      <td>star Tankstelle</td>\n",
       "      <td>STAR</td>\n",
       "      <td>Luruper Chaussee</td>\n",
       "      <td>18-22</td>\n",
       "      <td>22761</td>\n",
       "      <td>Hamburg</td>\n",
       "      <td>53.572900</td>\n",
       "      <td>9.894650</td>\n",
       "    </tr>\n",
       "    <tr>\n",
       "      <th>775</th>\n",
       "      <td>005056ba-7cb6-1ed2-bceb-980dcb9e8d3b</td>\n",
       "      <td>star Tankstelle</td>\n",
       "      <td>STAR</td>\n",
       "      <td>Farnhornweg</td>\n",
       "      <td>46a</td>\n",
       "      <td>22547</td>\n",
       "      <td>Hamburg</td>\n",
       "      <td>53.593220</td>\n",
       "      <td>9.890530</td>\n",
       "    </tr>\n",
       "    <tr>\n",
       "      <th>4600</th>\n",
       "      <td>51d4b4dc-a095-1aa0-e100-80009459e03a</td>\n",
       "      <td>JET HAMBURG KIELER STRASSE 234</td>\n",
       "      <td>JET</td>\n",
       "      <td>KIELER STRASSE 234</td>\n",
       "      <td>NaN</td>\n",
       "      <td>22525</td>\n",
       "      <td>HAMBURG</td>\n",
       "      <td>53.579040</td>\n",
       "      <td>9.936400</td>\n",
       "    </tr>\n",
       "    <tr>\n",
       "      <th>6387</th>\n",
       "      <td>6d7517d5-2a6c-403f-bd19-f9557c5ff16c</td>\n",
       "      <td>Aral Tankstelle</td>\n",
       "      <td>ARAL</td>\n",
       "      <td>Kieler Straße</td>\n",
       "      <td>560</td>\n",
       "      <td>22525</td>\n",
       "      <td>Hamburg</td>\n",
       "      <td>53.599940</td>\n",
       "      <td>9.917373</td>\n",
       "    </tr>\n",
       "    <tr>\n",
       "      <th>6917</th>\n",
       "      <td>7a5ee48a-680a-49e3-8705-fa4020f94e74</td>\n",
       "      <td>Aral Tankstelle</td>\n",
       "      <td>ARAL</td>\n",
       "      <td>Kieler Straße</td>\n",
       "      <td>285</td>\n",
       "      <td>22525</td>\n",
       "      <td>Hamburg</td>\n",
       "      <td>53.583813</td>\n",
       "      <td>9.933157</td>\n",
       "    </tr>\n",
       "    <tr>\n",
       "      <th>8003</th>\n",
       "      <td>92dbbe2c-26b9-4501-b424-ad1a6cece3bf</td>\n",
       "      <td>Aral Tankstelle</td>\n",
       "      <td>ARAL</td>\n",
       "      <td>Kieler Straße</td>\n",
       "      <td>314</td>\n",
       "      <td>22525</td>\n",
       "      <td>Hamburg</td>\n",
       "      <td>53.585860</td>\n",
       "      <td>9.933305</td>\n",
       "    </tr>\n",
       "    <tr>\n",
       "      <th>9542</th>\n",
       "      <td>b508e000-3721-491d-e269-a47b661033d4</td>\n",
       "      <td>CleanCar AG</td>\n",
       "      <td>CleanCar AG</td>\n",
       "      <td>Kieler Str.</td>\n",
       "      <td>195</td>\n",
       "      <td>22525</td>\n",
       "      <td>Hamburg</td>\n",
       "      <td>53.577190</td>\n",
       "      <td>9.937300</td>\n",
       "    </tr>\n",
       "    <tr>\n",
       "      <th>10971</th>\n",
       "      <td>d3c11609-f267-4eed-9b3a-7f5c75bbe909</td>\n",
       "      <td>Esso Tankstelle</td>\n",
       "      <td>ESSO</td>\n",
       "      <td>KOPPELSTR. 30</td>\n",
       "      <td></td>\n",
       "      <td>22527</td>\n",
       "      <td>HAMBURG</td>\n",
       "      <td>53.593255</td>\n",
       "      <td>9.938910</td>\n",
       "    </tr>\n",
       "    <tr>\n",
       "      <th>11324</th>\n",
       "      <td>db974126-82aa-49ec-a038-1af3f0ba696f</td>\n",
       "      <td>HAMBURG, OSDORFER LANDSTR.</td>\n",
       "      <td>Shell</td>\n",
       "      <td>OSDORFER LANDSTR. 1</td>\n",
       "      <td>NaN</td>\n",
       "      <td>22607</td>\n",
       "      <td>HAMBURG</td>\n",
       "      <td>53.569741</td>\n",
       "      <td>9.877121</td>\n",
       "    </tr>\n",
       "    <tr>\n",
       "      <th>11834</th>\n",
       "      <td>e1a15081-25c9-9107-e040-0b0a3dfe563c</td>\n",
       "      <td>Hamburg, Luruper Hauptstr. 70</td>\n",
       "      <td>HEM</td>\n",
       "      <td>Luruper Hauptstr.</td>\n",
       "      <td>70</td>\n",
       "      <td>22547</td>\n",
       "      <td>Hamburg</td>\n",
       "      <td>53.586235</td>\n",
       "      <td>9.878846</td>\n",
       "    </tr>\n",
       "    <tr>\n",
       "      <th>13463</th>\n",
       "      <td>e1a15081-2617-9107-e040-0b0a3dfe563c</td>\n",
       "      <td>Hamburg, Kieler Str. 361-365</td>\n",
       "      <td>HEM</td>\n",
       "      <td>Kieler Str.</td>\n",
       "      <td>361-365</td>\n",
       "      <td>22525</td>\n",
       "      <td>Hamburg</td>\n",
       "      <td>53.588750</td>\n",
       "      <td>9.930771</td>\n",
       "    </tr>\n",
       "    <tr>\n",
       "      <th>14132</th>\n",
       "      <td>942e27e7-8dd6-4358-b43b-204a2502c216</td>\n",
       "      <td>HAMBURG, SCHNACKENBURGALLEE</td>\n",
       "      <td>Shell</td>\n",
       "      <td>SCHNACKENBURGALLEE 12</td>\n",
       "      <td>NaN</td>\n",
       "      <td>22525</td>\n",
       "      <td>HAMBURG</td>\n",
       "      <td>53.573447</td>\n",
       "      <td>9.919294</td>\n",
       "    </tr>\n",
       "    <tr>\n",
       "      <th>15222</th>\n",
       "      <td>bae4c2cf-1dde-4edc-b394-4da173ee9a72</td>\n",
       "      <td>HAMBURG, VOLKSPARKSTR.</td>\n",
       "      <td>Shell</td>\n",
       "      <td>VOLKSPARKSTR. 44-46</td>\n",
       "      <td>NaN</td>\n",
       "      <td>22525</td>\n",
       "      <td>HAMBURG</td>\n",
       "      <td>53.591671</td>\n",
       "      <td>9.921471</td>\n",
       "    </tr>\n",
       "  </tbody>\n",
       "</table>\n",
       "</div>"
      ],
      "text/plain": [
       "                                       uuid                            name  \\\n",
       "621    005056ba-7cb6-1ed2-bceb-6e6ee17d4d20                 star Tankstelle   \n",
       "771    005056ba-7cb6-1ed2-bceb-971fa39ded38                 star Tankstelle   \n",
       "775    005056ba-7cb6-1ed2-bceb-980dcb9e8d3b                 star Tankstelle   \n",
       "4600   51d4b4dc-a095-1aa0-e100-80009459e03a  JET HAMBURG KIELER STRASSE 234   \n",
       "6387   6d7517d5-2a6c-403f-bd19-f9557c5ff16c                 Aral Tankstelle   \n",
       "6917   7a5ee48a-680a-49e3-8705-fa4020f94e74                 Aral Tankstelle   \n",
       "8003   92dbbe2c-26b9-4501-b424-ad1a6cece3bf                 Aral Tankstelle   \n",
       "9542   b508e000-3721-491d-e269-a47b661033d4                     CleanCar AG   \n",
       "10971  d3c11609-f267-4eed-9b3a-7f5c75bbe909                 Esso Tankstelle   \n",
       "11324  db974126-82aa-49ec-a038-1af3f0ba696f      HAMBURG, OSDORFER LANDSTR.   \n",
       "11834  e1a15081-25c9-9107-e040-0b0a3dfe563c   Hamburg, Luruper Hauptstr. 70   \n",
       "13463  e1a15081-2617-9107-e040-0b0a3dfe563c    Hamburg, Kieler Str. 361-365   \n",
       "14132  942e27e7-8dd6-4358-b43b-204a2502c216     HAMBURG, SCHNACKENBURGALLEE   \n",
       "15222  bae4c2cf-1dde-4edc-b394-4da173ee9a72          HAMBURG, VOLKSPARKSTR.   \n",
       "\n",
       "             brand                 street house_number post_code     city  \\\n",
       "621           STAR          Kieler Straße          206     22525  Hamburg   \n",
       "771           STAR       Luruper Chaussee        18-22     22761  Hamburg   \n",
       "775           STAR            Farnhornweg          46a     22547  Hamburg   \n",
       "4600           JET     KIELER STRASSE 234          NaN     22525  HAMBURG   \n",
       "6387          ARAL          Kieler Straße          560     22525  Hamburg   \n",
       "6917          ARAL          Kieler Straße          285     22525  Hamburg   \n",
       "8003          ARAL          Kieler Straße          314     22525  Hamburg   \n",
       "9542   CleanCar AG            Kieler Str.          195     22525  Hamburg   \n",
       "10971         ESSO          KOPPELSTR. 30                  22527  HAMBURG   \n",
       "11324        Shell    OSDORFER LANDSTR. 1          NaN     22607  HAMBURG   \n",
       "11834          HEM      Luruper Hauptstr.           70     22547  Hamburg   \n",
       "13463          HEM            Kieler Str.      361-365     22525  Hamburg   \n",
       "14132        Shell  SCHNACKENBURGALLEE 12          NaN     22525  HAMBURG   \n",
       "15222        Shell    VOLKSPARKSTR. 44-46          NaN     22525  HAMBURG   \n",
       "\n",
       "        latitude  longitude  \n",
       "621    53.577040   9.937720  \n",
       "771    53.572900   9.894650  \n",
       "775    53.593220   9.890530  \n",
       "4600   53.579040   9.936400  \n",
       "6387   53.599940   9.917373  \n",
       "6917   53.583813   9.933157  \n",
       "8003   53.585860   9.933305  \n",
       "9542   53.577190   9.937300  \n",
       "10971  53.593255   9.938910  \n",
       "11324  53.569741   9.877121  \n",
       "11834  53.586235   9.878846  \n",
       "13463  53.588750   9.930771  \n",
       "14132  53.573447   9.919294  \n",
       "15222  53.591671   9.921471  "
      ]
     },
     "execution_count": 89,
     "metadata": {},
     "output_type": "execute_result"
    }
   ],
   "source": [
    "stations_on_route.loc[(stations_on_route.latitude<53.613)&(stations_on_route.longitude<9.95)] \n",
    "#&(stations_on_route.longitude>9.9528) (stations_on_route.latitude>53.611)&"
   ]
  },
  {
   "cell_type": "code",
   "execution_count": null,
   "metadata": {},
   "outputs": [],
   "source": [
    "prices.loc[prices.station_uuid.isin(['d0235369-10e6-4862-8b27-66c03ddace6b','bae4c2cf-1dde-4edc-b394-4da173ee9a72'])]"
   ]
  },
  {
   "cell_type": "code",
   "execution_count": null,
   "metadata": {},
   "outputs": [],
   "source": [
    "prices.loc[prices.station_uuid=='bae4c2cf-1dde-4edc-b394-4da173ee9a72']"
   ]
  },
  {
   "cell_type": "code",
   "execution_count": 10,
   "metadata": {},
   "outputs": [
    {
     "data": {
      "text/plain": [
       "21"
      ]
     },
     "execution_count": 10,
     "metadata": {},
     "output_type": "execute_result"
    }
   ],
   "source": [
    "len(stations_on_route)"
   ]
  },
  {
   "cell_type": "code",
   "execution_count": 11,
   "metadata": {},
   "outputs": [],
   "source": [
    "#len 723\n",
    "selected_prices = prices.loc[prices.station_uuid.isin(stations_on_route.uuid)]"
   ]
  },
  {
   "cell_type": "code",
   "execution_count": 12,
   "metadata": {},
   "outputs": [
    {
     "data": {
      "text/plain": [
       "298"
      ]
     },
     "execution_count": 12,
     "metadata": {},
     "output_type": "execute_result"
    }
   ],
   "source": [
    "len(selected_prices)"
   ]
  },
  {
   "cell_type": "code",
   "execution_count": null,
   "metadata": {},
   "outputs": [],
   "source": [
    "selected_prices.head()"
   ]
  },
  {
   "cell_type": "code",
   "execution_count": null,
   "metadata": {},
   "outputs": [],
   "source": [
    "#warning\n",
    "#selected_prices['station_name']=selected_prices.station_uuid.copy()\n",
    "#selected_prices['station_name']=selected_prices.station_uuid.map(stations_on_route.set_index('uuid')['brand'].to_dict()).copy()\n",
    "#selected_prices['station_name'] = selected_prices['station_uuid'].map(name_dict)"
   ]
  },
  {
   "cell_type": "code",
   "execution_count": null,
   "metadata": {},
   "outputs": [],
   "source": [
    "#clean no warning version!\n",
    "#selected_prices.loc[:,'station_name'] = selected_prices['station_uuid'].map(name_dict) "
   ]
  },
  {
   "cell_type": "markdown",
   "metadata": {},
   "source": [
    "extend station id to meaningful info"
   ]
  },
  {
   "cell_type": "code",
   "execution_count": 13,
   "metadata": {},
   "outputs": [
    {
     "name": "stderr",
     "output_type": "stream",
     "text": [
      "/Library/Frameworks/Python.framework/Versions/3.6/lib/python3.6/site-packages/pandas/core/indexing.py:362: SettingWithCopyWarning: \n",
      "A value is trying to be set on a copy of a slice from a DataFrame.\n",
      "Try using .loc[row_indexer,col_indexer] = value instead\n",
      "\n",
      "See the caveats in the documentation: http://pandas.pydata.org/pandas-docs/stable/indexing.html#indexing-view-versus-copy\n",
      "  self.obj[key] = _infer_fill_value(value)\n",
      "/Library/Frameworks/Python.framework/Versions/3.6/lib/python3.6/site-packages/pandas/core/indexing.py:543: SettingWithCopyWarning: \n",
      "A value is trying to be set on a copy of a slice from a DataFrame.\n",
      "Try using .loc[row_indexer,col_indexer] = value instead\n",
      "\n",
      "See the caveats in the documentation: http://pandas.pydata.org/pandas-docs/stable/indexing.html#indexing-view-versus-copy\n",
      "  self.obj[item] = s\n"
     ]
    }
   ],
   "source": [
    "selected_prices.loc[:,'station_name']=selected_prices.station_uuid.map(stations_on_route.set_index('uuid')['brand'].to_dict())\n",
    "selected_prices.loc[:,'station_address']=selected_prices.station_uuid.map(stations_on_route.set_index('uuid')['street'].to_dict())\n",
    "selected_prices.loc[:,'station_latitude']=selected_prices.station_uuid.map(stations_on_route.set_index('uuid')['latitude'].to_dict())\n",
    "selected_prices.loc[:,'station_longitude']=selected_prices.station_uuid.map(stations_on_route.set_index('uuid')['longitude'].to_dict())\n",
    "\n"
   ]
  },
  {
   "cell_type": "code",
   "execution_count": null,
   "metadata": {},
   "outputs": [],
   "source": [
    "selected_prices.loc[:,'station_name']=selected_prices.station_uuid"
   ]
  },
  {
   "cell_type": "code",
   "execution_count": null,
   "metadata": {},
   "outputs": [],
   "source": [
    "#selected_prices.drop(['station_name','station_address','station_latitude','station_longitude'], axis=1,inplace=True)\n",
    "#selected_prices.drop(['station_name'], axis=1,inplace=True)"
   ]
  },
  {
   "cell_type": "code",
   "execution_count": 14,
   "metadata": {},
   "outputs": [
    {
     "data": {
      "text/html": [
       "<div>\n",
       "<style scoped>\n",
       "    .dataframe tbody tr th:only-of-type {\n",
       "        vertical-align: middle;\n",
       "    }\n",
       "\n",
       "    .dataframe tbody tr th {\n",
       "        vertical-align: top;\n",
       "    }\n",
       "\n",
       "    .dataframe thead th {\n",
       "        text-align: right;\n",
       "    }\n",
       "</style>\n",
       "<table border=\"1\" class=\"dataframe\">\n",
       "  <thead>\n",
       "    <tr style=\"text-align: right;\">\n",
       "      <th></th>\n",
       "      <th>date</th>\n",
       "      <th>station_uuid</th>\n",
       "      <th>diesel</th>\n",
       "      <th>e5</th>\n",
       "      <th>e10</th>\n",
       "      <th>dieselchange</th>\n",
       "      <th>e5change</th>\n",
       "      <th>e10change</th>\n",
       "      <th>station_name</th>\n",
       "      <th>station_address</th>\n",
       "      <th>station_latitude</th>\n",
       "      <th>station_longitude</th>\n",
       "    </tr>\n",
       "  </thead>\n",
       "  <tbody>\n",
       "    <tr>\n",
       "      <th>1268</th>\n",
       "      <td>2020-01-01 04:37:04+01</td>\n",
       "      <td>51d4b4dc-a095-1aa0-e100-80009459e03a</td>\n",
       "      <td>1.319</td>\n",
       "      <td>1.469</td>\n",
       "      <td>1.449</td>\n",
       "      <td>1</td>\n",
       "      <td>1</td>\n",
       "      <td>1</td>\n",
       "      <td>JET</td>\n",
       "      <td>KIELER STRASSE 234</td>\n",
       "      <td>53.57904</td>\n",
       "      <td>9.936400</td>\n",
       "    </tr>\n",
       "    <tr>\n",
       "      <th>3833</th>\n",
       "      <td>2020-01-01 05:02:04+01</td>\n",
       "      <td>95b23160-eeb2-440f-adc4-245238f24e42</td>\n",
       "      <td>1.419</td>\n",
       "      <td>1.559</td>\n",
       "      <td>1.539</td>\n",
       "      <td>1</td>\n",
       "      <td>1</td>\n",
       "      <td>1</td>\n",
       "      <td>ARAL</td>\n",
       "      <td>Holsteiner Chaussee</td>\n",
       "      <td>53.61471</td>\n",
       "      <td>9.906061</td>\n",
       "    </tr>\n",
       "    <tr>\n",
       "      <th>4195</th>\n",
       "      <td>2020-01-01 05:02:04+01</td>\n",
       "      <td>5336de21-fd2d-4821-b4fe-bf89684cdb81</td>\n",
       "      <td>1.389</td>\n",
       "      <td>1.529</td>\n",
       "      <td>1.509</td>\n",
       "      <td>1</td>\n",
       "      <td>1</td>\n",
       "      <td>1</td>\n",
       "      <td>ARAL</td>\n",
       "      <td>Pinneberger Straße</td>\n",
       "      <td>53.63288</td>\n",
       "      <td>9.910497</td>\n",
       "    </tr>\n",
       "    <tr>\n",
       "      <th>4864</th>\n",
       "      <td>2020-01-01 05:02:04+01</td>\n",
       "      <td>6d7517d5-2a6c-403f-bd19-f9557c5ff16c</td>\n",
       "      <td>1.419</td>\n",
       "      <td>1.559</td>\n",
       "      <td>1.539</td>\n",
       "      <td>1</td>\n",
       "      <td>1</td>\n",
       "      <td>1</td>\n",
       "      <td>ARAL</td>\n",
       "      <td>Kieler Straße</td>\n",
       "      <td>53.59994</td>\n",
       "      <td>9.917373</td>\n",
       "    </tr>\n",
       "    <tr>\n",
       "      <th>5499</th>\n",
       "      <td>2020-01-01 05:04:04+01</td>\n",
       "      <td>b282ef61-a88d-4abd-bfba-92524f78867e</td>\n",
       "      <td>1.419</td>\n",
       "      <td>1.559</td>\n",
       "      <td>1.539</td>\n",
       "      <td>1</td>\n",
       "      <td>1</td>\n",
       "      <td>1</td>\n",
       "      <td>ARAL</td>\n",
       "      <td>Schleswiger Damm</td>\n",
       "      <td>53.64182</td>\n",
       "      <td>9.916311</td>\n",
       "    </tr>\n",
       "  </tbody>\n",
       "</table>\n",
       "</div>"
      ],
      "text/plain": [
       "                        date                          station_uuid  diesel  \\\n",
       "1268  2020-01-01 04:37:04+01  51d4b4dc-a095-1aa0-e100-80009459e03a   1.319   \n",
       "3833  2020-01-01 05:02:04+01  95b23160-eeb2-440f-adc4-245238f24e42   1.419   \n",
       "4195  2020-01-01 05:02:04+01  5336de21-fd2d-4821-b4fe-bf89684cdb81   1.389   \n",
       "4864  2020-01-01 05:02:04+01  6d7517d5-2a6c-403f-bd19-f9557c5ff16c   1.419   \n",
       "5499  2020-01-01 05:04:04+01  b282ef61-a88d-4abd-bfba-92524f78867e   1.419   \n",
       "\n",
       "         e5    e10  dieselchange  e5change  e10change station_name  \\\n",
       "1268  1.469  1.449             1         1          1          JET   \n",
       "3833  1.559  1.539             1         1          1         ARAL   \n",
       "4195  1.529  1.509             1         1          1         ARAL   \n",
       "4864  1.559  1.539             1         1          1         ARAL   \n",
       "5499  1.559  1.539             1         1          1         ARAL   \n",
       "\n",
       "          station_address  station_latitude  station_longitude  \n",
       "1268   KIELER STRASSE 234          53.57904           9.936400  \n",
       "3833  Holsteiner Chaussee          53.61471           9.906061  \n",
       "4195   Pinneberger Straße          53.63288           9.910497  \n",
       "4864        Kieler Straße          53.59994           9.917373  \n",
       "5499     Schleswiger Damm          53.64182           9.916311  "
      ]
     },
     "execution_count": 14,
     "metadata": {},
     "output_type": "execute_result"
    }
   ],
   "source": [
    "selected_prices.head()"
   ]
  },
  {
   "cell_type": "code",
   "execution_count": null,
   "metadata": {},
   "outputs": [],
   "source": [
    "def station_info():\n",
    "    \n",
    "    return tags['tagValue'].loc[tags['tagID']==tagID].values[0]"
   ]
  },
  {
   "cell_type": "code",
   "execution_count": null,
   "metadata": {},
   "outputs": [],
   "source": [
    "selected_prices.to_csv(\"data/processed/2020/01/2020-01-01-prices.csv\")"
   ]
  },
  {
   "cell_type": "code",
   "execution_count": 17,
   "metadata": {},
   "outputs": [],
   "source": [
    "l_d = selected_prices.date[:5].values"
   ]
  },
  {
   "cell_type": "code",
   "execution_count": null,
   "metadata": {},
   "outputs": [],
   "source": [
    "from datetime import datetime\n",
    "\n",
    "datetime_object = datetime.strptime('2020-01-01 04:02:03+01', '%Y-%m-%d %H:%M:%S+01')\n",
    "#selected_prices.date\n",
    "#= pd.to_datetime(selected_prices.date, format='%Y-%m-%d %H:%M:%S+1')\n",
    "print(datetime_object)"
   ]
  },
  {
   "cell_type": "code",
   "execution_count": null,
   "metadata": {},
   "outputs": [],
   "source": [
    "datetime_object"
   ]
  },
  {
   "cell_type": "code",
   "execution_count": null,
   "metadata": {},
   "outputs": [],
   "source": [
    "def dt_conv(l_d):\n",
    "    for i in l_d:\n",
    "        datetime_object = datetime.strptime(i, '%Y-%m-%d %H:%M:%S+01')\n",
    "        print(datetime_object)"
   ]
  },
  {
   "cell_type": "code",
   "execution_count": null,
   "metadata": {},
   "outputs": [],
   "source": [
    "dt_conv(l_d)"
   ]
  },
  {
   "cell_type": "code",
   "execution_count": null,
   "metadata": {},
   "outputs": [],
   "source": [
    "datetime_object"
   ]
  },
  {
   "cell_type": "code",
   "execution_count": null,
   "metadata": {},
   "outputs": [],
   "source": [
    "#selected_prices.loc[:,'dt']=\n",
    "selected_prices.date.applymap(dt_conv)"
   ]
  },
  {
   "cell_type": "code",
   "execution_count": 18,
   "metadata": {},
   "outputs": [],
   "source": [
    "df=selected_prices.loc[selected_prices.station_uuid==\"95b23160-eeb2-440f-adc4-245238f24e42\"]\n",
    "#plot(figsize = (12,6))"
   ]
  },
  {
   "cell_type": "code",
   "execution_count": 66,
   "metadata": {},
   "outputs": [
    {
     "data": {
      "text/plain": [
       "12"
      ]
     },
     "execution_count": 66,
     "metadata": {},
     "output_type": "execute_result"
    }
   ],
   "source": [
    "len(df)"
   ]
  },
  {
   "cell_type": "code",
   "execution_count": 35,
   "metadata": {},
   "outputs": [
    {
     "data": {
      "text/plain": [
       "'ARAL'"
      ]
     },
     "execution_count": 35,
     "metadata": {},
     "output_type": "execute_result"
    }
   ],
   "source": [
    "df['station_name'].values[0]"
   ]
  },
  {
   "cell_type": "code",
   "execution_count": 41,
   "metadata": {},
   "outputs": [
    {
     "data": {
      "text/plain": [
       "298"
      ]
     },
     "execution_count": 41,
     "metadata": {},
     "output_type": "execute_result"
    }
   ],
   "source": [
    "len(selected_prices.station_uuid)"
   ]
  },
  {
   "cell_type": "code",
   "execution_count": null,
   "metadata": {},
   "outputs": [],
   "source": [
    "for i in stations_on_route.uuid[2:4]:\n",
    "    print(i)\n",
    "    "
   ]
  },
  {
   "cell_type": "code",
   "execution_count": 64,
   "metadata": {},
   "outputs": [
    {
     "name": "stdout",
     "output_type": "stream",
     "text": [
      "005056ba-7cb6-1ed2-bceb-971fa39ded38\n",
      "                          date                          station_uuid  diesel  \\\n",
      "11969   2020-01-01 06:29:03+01  005056ba-7cb6-1ed2-bceb-971fa39ded38   1.409   \n",
      "20668   2020-01-01 07:29:03+01  005056ba-7cb6-1ed2-bceb-971fa39ded38   1.369   \n",
      "21727   2020-01-01 07:43:03+01  005056ba-7cb6-1ed2-bceb-971fa39ded38   1.339   \n",
      "37342   2020-01-01 09:53:03+01  005056ba-7cb6-1ed2-bceb-971fa39ded38   1.279   \n",
      "50386   2020-01-01 10:25:04+01  005056ba-7cb6-1ed2-bceb-971fa39ded38   1.319   \n",
      "72625   2020-01-01 11:43:04+01  005056ba-7cb6-1ed2-bceb-971fa39ded38   1.279   \n",
      "75247   2020-01-01 11:53:04+01  005056ba-7cb6-1ed2-bceb-971fa39ded38   1.269   \n",
      "97619   2020-01-01 13:27:04+01  005056ba-7cb6-1ed2-bceb-971fa39ded38   1.309   \n",
      "104077  2020-01-01 13:59:04+01  005056ba-7cb6-1ed2-bceb-971fa39ded38   1.309   \n",
      "112056  2020-01-01 14:29:04+01  005056ba-7cb6-1ed2-bceb-971fa39ded38   1.289   \n",
      "\n",
      "           e5    e10  dieselchange  e5change  e10change station_name  \\\n",
      "11969   1.559  1.539             1         1          1         STAR   \n",
      "20668   1.559  1.539             1         0          0         STAR   \n",
      "21727   1.489  1.469             1         1          1         STAR   \n",
      "37342   1.429  1.409             1         1          1         STAR   \n",
      "50386   1.469  1.449             1         1          1         STAR   \n",
      "72625   1.429  1.409             1         1          1         STAR   \n",
      "75247   1.419  1.399             1         1          1         STAR   \n",
      "97619   1.459  1.439             1         1          1         STAR   \n",
      "104077  1.429  1.409             0         1          1         STAR   \n",
      "112056  1.429  1.409             1         0          0         STAR   \n",
      "\n",
      "         station_address  station_latitude  station_longitude  \n",
      "11969   Luruper Chaussee           53.5729            9.89465  \n",
      "20668   Luruper Chaussee           53.5729            9.89465  \n",
      "21727   Luruper Chaussee           53.5729            9.89465  \n",
      "37342   Luruper Chaussee           53.5729            9.89465  \n",
      "50386   Luruper Chaussee           53.5729            9.89465  \n",
      "72625   Luruper Chaussee           53.5729            9.89465  \n",
      "75247   Luruper Chaussee           53.5729            9.89465  \n",
      "97619   Luruper Chaussee           53.5729            9.89465  \n",
      "104077  Luruper Chaussee           53.5729            9.89465  \n",
      "112056  Luruper Chaussee           53.5729            9.89465  \n",
      "=======================\n",
      "005056ba-7cb6-1ed2-bceb-980dcb9e8d3b\n",
      "                          date                          station_uuid  diesel  \\\n",
      "11906   2020-01-01 06:29:03+01  005056ba-7cb6-1ed2-bceb-980dcb9e8d3b   1.409   \n",
      "20652   2020-01-01 07:29:03+01  005056ba-7cb6-1ed2-bceb-980dcb9e8d3b   1.369   \n",
      "21696   2020-01-01 07:43:03+01  005056ba-7cb6-1ed2-bceb-980dcb9e8d3b   1.339   \n",
      "50284   2020-01-01 10:25:04+01  005056ba-7cb6-1ed2-bceb-980dcb9e8d3b   1.379   \n",
      "61925   2020-01-01 11:13:04+01  005056ba-7cb6-1ed2-bceb-980dcb9e8d3b   1.329   \n",
      "67623   2020-01-01 11:29:03+01  005056ba-7cb6-1ed2-bceb-980dcb9e8d3b   1.269   \n",
      "97577   2020-01-01 13:27:04+01  005056ba-7cb6-1ed2-bceb-980dcb9e8d3b   1.309   \n",
      "112037  2020-01-01 14:29:04+01  005056ba-7cb6-1ed2-bceb-980dcb9e8d3b   1.269   \n",
      "140653  2020-01-01 16:27:04+01  005056ba-7cb6-1ed2-bceb-980dcb9e8d3b   1.309   \n",
      "150748  2020-01-01 17:13:04+01  005056ba-7cb6-1ed2-bceb-980dcb9e8d3b   1.269   \n",
      "\n",
      "           e5    e10  dieselchange  e5change  e10change station_name  \\\n",
      "11906   1.559  1.539             1         1          1         STAR   \n",
      "20652   1.559  1.539             1         0          0         STAR   \n",
      "21696   1.489  1.469             1         1          1         STAR   \n",
      "50284   1.529  1.509             1         1          1         STAR   \n",
      "61925   1.479  1.459             1         1          1         STAR   \n",
      "67623   1.419  1.399             1         1          1         STAR   \n",
      "97577   1.459  1.439             1         1          1         STAR   \n",
      "112037  1.419  1.399             1         1          1         STAR   \n",
      "140653  1.459  1.439             1         1          1         STAR   \n",
      "150748  1.419  1.399             1         1          1         STAR   \n",
      "\n",
      "       station_address  station_latitude  station_longitude  \n",
      "11906      Farnhornweg          53.59322            9.89053  \n",
      "20652      Farnhornweg          53.59322            9.89053  \n",
      "21696      Farnhornweg          53.59322            9.89053  \n",
      "50284      Farnhornweg          53.59322            9.89053  \n",
      "61925      Farnhornweg          53.59322            9.89053  \n",
      "67623      Farnhornweg          53.59322            9.89053  \n",
      "97577      Farnhornweg          53.59322            9.89053  \n",
      "112037     Farnhornweg          53.59322            9.89053  \n",
      "140653     Farnhornweg          53.59322            9.89053  \n",
      "150748     Farnhornweg          53.59322            9.89053  \n",
      "=======================\n"
     ]
    },
    {
     "data": {
      "image/png": "[encoded data removed]",
      "text/plain": [
       "<Figure size 432x288 with 1 Axes>"
      ]
     },
     "metadata": {
      "needs_background": "light"
     },
     "output_type": "display_data"
    }
   ],
   "source": [
    "\n",
    "    \n",
    "df = selected_prices.loc[selected_prices.station_uuid==i]\n",
    "df1 = df.sort_values('date', ascending=True)\n",
    "print(df1[:10])\n",
    "\n",
    "plt.plot(df1['date'], df1['e5'],label=df1['station_name'].values[0]+df1['station_address'].values[0])\n",
    "\n",
    "#plt.xticks(rotation='vertical')\n",
    "#plt.legend(loc=\"lower left\")"
   ]
  },
  {
   "cell_type": "code",
   "execution_count": 67,
   "metadata": {},
   "outputs": [],
   "source": [
    "pricesproc=pd.read_csv(\"data/processed/2020/01/2020-01-01-prices.csv\")\n"
   ]
  },
  {
   "cell_type": "code",
   "execution_count": 91,
   "metadata": {},
   "outputs": [
    {
     "data": {
      "text/plain": [
       "<matplotlib.legend.Legend at 0x10eebba90>"
      ]
     },
     "execution_count": 91,
     "metadata": {},
     "output_type": "execute_result"
    },
    {
     "data": {
      "image/png": "[encoded data removed]",
      "text/plain": [
       "<Figure size 432x288 with 1 Axes>"
      ]
     },
     "metadata": {
      "needs_background": "light"
     },
     "output_type": "display_data"
    }
   ],
   "source": [
    "df=pricesproc.loc[pricesproc.station_uuid==\"e1a15081-2617-9107-e040-0b0a3dfe563c\"]\n",
    "df1= df.sort_values('date', ascending=True)\n",
    "plt.plot(df['date'], df['e5'],label=df['station_name'].values[0]+\" \"+df['station_address'].values[0])\n",
    "plt.xticks(rotation='vertical')\n",
    "plt.legend(loc=\"lower left\")"
   ]
  },
  {
   "cell_type": "code",
   "execution_count": 69,
   "metadata": {},
   "outputs": [
    {
     "data": {
      "text/plain": [
       "19"
      ]
     },
     "execution_count": 69,
     "metadata": {},
     "output_type": "execute_result"
    }
   ],
   "source": [
    "len(df)"
   ]
  },
  {
   "cell_type": "code",
   "execution_count": null,
   "metadata": {},
   "outputs": [],
   "source": []
  }
 ],
 "metadata": {
  "kernelspec": {
   "display_name": "Python 3",
   "language": "python",
   "name": "python3"
  },
  "language_info": {
   "codemirror_mode": {
    "name": "ipython",
    "version": 3
   },
   "file_extension": ".py",
   "mimetype": "text/x-python",
   "name": "python",
   "nbconvert_exporter": "python",
   "pygments_lexer": "ipython3",
   "version": "3.6.7"
  }
 },
 "nbformat": 4,
 "nbformat_minor": 2
}
